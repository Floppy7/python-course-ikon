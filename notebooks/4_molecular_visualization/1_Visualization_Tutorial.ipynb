{
 "cells": [
  {
   "cell_type": "markdown",
   "metadata": {},
   "source": [
    "\n",
    "# Molecular Visualization Tutorial"
   ]
  },
  {
   "cell_type": "markdown",
   "metadata": {},
   "source": [
    "## Introduction\n",
    "Jupyter Notebook can be used for visualization of both molecular and periodic structures.\n",
    "Multiple viewers have been ported for use in the Notebook - here we will show how to construct a simple molecule and visualize it using several viewers.\n",
    "This tutorial will also present operations on larger structures, including big PDB files.\n",
    "\n",
    "To create simple molecular sytems we will use the ASE package.\n",
    "\n",
    "ASE is an Atomic Simulation Environment written in the Python programming language with the aim of setting up, steering, and analyzing atomistic simulations.\n",
    "\n",
    "ASE contains objects and structures for atomic structures as well as for calculators.\n",
    "\n",
    "\n",
    "### This tutorial\n",
    "\n",
    "In this tutorial we will learn about the basic concepts of visualizing structures using the Atomic Simulation Environment:\n",
    "\n",
    "1. The Atom and Atoms objects and how to construct atomic structures with and without periodic boundary condistions\n",
    "2. Visualization of molecules and periodics with x3d and NGLView\n",
    "2. Visualization of larger structures with NGLView\n",
    "\n",
    "\n",
    "The tutorial requires that the following python modules are installed:\n",
    "1. ase\n",
    "2. matplotlib\n",
    "3. nglview\n",
    "\n",
    "\n",
    "These packages should be pre-installed on the virtual machine"
   ]
  },
  {
   "cell_type": "markdown",
   "metadata": {},
   "source": [
    "### Constructing a water molecule from scratch\n",
    "\n",
    "\n",
    "For this task we will use ASE. To create molecules we need to first define atoms which are its constituents."
   ]
  },
  {
   "cell_type": "code",
   "execution_count": null,
   "metadata": {},
   "outputs": [],
   "source": [
    "from ase import Atom\n",
    "from ase import Atoms"
   ]
  },
  {
   "cell_type": "markdown",
   "metadata": {},
   "source": [
    "A water molecule is fundametally a terahedral structure with the oxygen atoms in the center and the two hydrogen atoms and two lone pairs at the corners. The angle between two bonds in a fully symmetrical tetrahedron is 109 degrees. The lengths of the O-H bonds can be estimated from the atoms covalent radii. We will place the oxygen in origon and the two hydrogen atoms in the yz plane symmetrically around the z-axis."
   ]
  },
  {
   "cell_type": "code",
   "execution_count": null,
   "metadata": {},
   "outputs": [],
   "source": [
    "import numpy as np\n",
    "water = Atoms('OH2') # placing oxygen first\n",
    "\n",
    "# calculate bond length\n",
    "from ase.data import covalent_radii\n",
    "radius_h = covalent_radii[1]  # indexed by atomic number\n",
    "radius_o = covalent_radii[8]\n",
    "bondlength = radius_h + radius_o\n",
    "\n",
    "# calculate x and y projections of unit vector pointing along the o-h bond \n",
    "angle = 109.*np.pi/180. # converting to radians\n",
    "xu = np.cos(angle/2)\n",
    "yu = np.sin(angle/2)\n",
    "\n",
    "# set positions\n",
    "\n",
    "# method 1  (indexig on atoms)\n",
    "water[1].position = bondlength*np.array([0, xu, yu])\n",
    "water[2].position = bondlength*np.array([0, xu, -yu])\n",
    "water.positions"
   ]
  },
  {
   "cell_type": "code",
   "execution_count": null,
   "metadata": {},
   "outputs": [],
   "source": [
    "# A quicker one-liner for numpy users\n",
    "water.positions[1:, 1:] = bondlength*np.array( [[xu, yu], [xu, -yu]])\n",
    "water.positions"
   ]
  },
  {
   "cell_type": "markdown",
   "metadata": {},
   "source": [
    "## Visualization\n",
    "\n",
    "ASE supports many molecular viewers. For embedded views in Jupyter notebooks it supports two, the x3d  and nglviewer. "
   ]
  },
  {
   "cell_type": "code",
   "execution_count": null,
   "metadata": {},
   "outputs": [],
   "source": [
    "from ase.visualize import view"
   ]
  },
  {
   "cell_type": "markdown",
   "metadata": {},
   "source": [
    "The simple ase gui is default, but it pops out as a separate window, if this notebook is run locally."
   ]
  },
  {
   "cell_type": "code",
   "execution_count": null,
   "metadata": {},
   "outputs": [],
   "source": [
    "view([water, water])"
   ]
  },
  {
   "cell_type": "markdown",
   "metadata": {},
   "source": [
    "A notebook-embedded representation of a structure can be viewed with the `x3d` viewer, also internal to ASE."
   ]
  },
  {
   "cell_type": "code",
   "execution_count": null,
   "metadata": {},
   "outputs": [],
   "source": [
    "view(water, viewer='x3d')"
   ]
  },
  {
   "cell_type": "markdown",
   "metadata": {},
   "source": [
    "The `x3d` viewer does not offer any scripting capability and the only operations you can perform are rotation (left mouse button), translation (Ctrl+left mouse button) and zoom (mouse wheel)"
   ]
  },
  {
   "cell_type": "markdown",
   "metadata": {},
   "source": [
    "For some more bling directly in the Jupyter notebook we can use the `nglviewer`"
   ]
  },
  {
   "cell_type": "code",
   "execution_count": null,
   "metadata": {
    "scrolled": false
   },
   "outputs": [],
   "source": [
    "view(water, viewer='ngl')"
   ]
  },
  {
   "cell_type": "markdown",
   "metadata": {},
   "source": [
    "Alternatively, we may read the ASE structure directly from NGLView."
   ]
  },
  {
   "cell_type": "code",
   "execution_count": null,
   "metadata": {},
   "outputs": [],
   "source": [
    "import nglview as nv"
   ]
  },
  {
   "cell_type": "code",
   "execution_count": null,
   "metadata": {},
   "outputs": [],
   "source": [
    "v = nv.show_structure_file(\"dna.pdb\")\n",
    "v"
   ]
  },
  {
   "cell_type": "markdown",
   "metadata": {},
   "source": [
    "NGLviewer is a powerful utility. We can control many aspects of the display quality."
   ]
  },
  {
   "cell_type": "code",
   "execution_count": null,
   "metadata": {},
   "outputs": [],
   "source": [
    "# set size of the widget\n",
    "v._remote_call(\"setSize\", target=\"Widget\", args=[\"400px\", \"400px\"])\n",
    "\n",
    "# center the view\n",
    "v.center()\n",
    "\n",
    "# change the color of the background\n",
    "v.background='#ffc'\n",
    "\n",
    "# modify the z-clipping distance\n",
    "v.parameters=dict(clipDist=-10)"
   ]
  },
  {
   "cell_type": "markdown",
   "metadata": {},
   "source": [
    "### Exercise 1: Construct a molecule\n",
    "H2S has an H-S-H angle of 90 degrees, construct an ASE molecule representing H2S using bond lengths based on covalent radius.\n",
    "\n",
    "*Hint* See below, in case you don't know the atomic_number of sulfur (but who doesn't?)"
   ]
  },
  {
   "cell_type": "code",
   "execution_count": null,
   "metadata": {},
   "outputs": [],
   "source": [
    "sulfur = Atom('S')\n",
    "sulfur.number  # atomic number"
   ]
  },
  {
   "cell_type": "markdown",
   "metadata": {},
   "source": [
    "alternatively"
   ]
  },
  {
   "cell_type": "code",
   "execution_count": null,
   "metadata": {},
   "outputs": [],
   "source": [
    "from ase.data import atomic_numbers\n",
    "atomic_numbers['S']"
   ]
  },
  {
   "cell_type": "code",
   "execution_count": null,
   "metadata": {},
   "outputs": [],
   "source": [
    "sh2 = 'replace this string with your code'"
   ]
  },
  {
   "cell_type": "markdown",
   "metadata": {},
   "source": [
    "### Exercise 2 using both x3d and NGLView viewers\n",
    "\n",
    "Visualize your SH2 molecule:"
   ]
  },
  {
   "cell_type": "code",
   "execution_count": null,
   "metadata": {},
   "outputs": [],
   "source": [
    "'replace with your code'"
   ]
  },
  {
   "cell_type": "markdown",
   "metadata": {},
   "source": [
    "## Crystals\n",
    "We can use the viewers to look at not just 0D materials (molecules), but also for periodic systems: 1D (e.g. wires), 2D (e.g. surfaces), and 3D materials (e.g. crystals)\n",
    "\n",
    "Here we will focus on crystals\n",
    "\n",
    "Let's read in the NaH structure from a file, already present in the right location."
   ]
  },
  {
   "cell_type": "code",
   "execution_count": null,
   "metadata": {
    "scrolled": true
   },
   "outputs": [],
   "source": [
    "from ase import io\n",
    "nah = io.read('NaH.cif')\n",
    "view(nah, viewer='ngl')"
   ]
  },
  {
   "cell_type": "markdown",
   "metadata": {},
   "source": [
    "Repeating the cell three times is as easy as using a simple method on the loaded structure."
   ]
  },
  {
   "cell_type": "code",
   "execution_count": null,
   "metadata": {
    "scrolled": true
   },
   "outputs": [],
   "source": [
    "view(nah.repeat(3), viewer='ngl')"
   ]
  },
  {
   "cell_type": "markdown",
   "metadata": {},
   "source": [
    "### Building\n",
    "Like for the molecule a crystal can be generated by building from scratch, or reading it from a file as above, or by using predefined structures.\n",
    "Let's build a crystal for silver using the ASE `bulk` module"
   ]
  },
  {
   "cell_type": "code",
   "execution_count": null,
   "metadata": {},
   "outputs": [],
   "source": [
    "from ase.build import bulk\n",
    "ag = bulk('Ag')"
   ]
  },
  {
   "cell_type": "markdown",
   "metadata": {},
   "source": [
    "Note, that ASE automatically assigned crystal symmetry (fcc) and lattice constant. \n",
    "\n",
    "This structure can now be nicely visualized."
   ]
  },
  {
   "cell_type": "code",
   "execution_count": null,
   "metadata": {},
   "outputs": [],
   "source": [
    "view(ag, viewer='ngl')"
   ]
  },
  {
   "cell_type": "markdown",
   "metadata": {},
   "source": [
    "### Databases\n",
    "\n",
    "Multiple databases can be queried for systems so we don't need to manually create them!\n",
    "\n",
    "One example is ASE's own `builder` database"
   ]
  },
  {
   "cell_type": "code",
   "execution_count": null,
   "metadata": {},
   "outputs": [],
   "source": [
    "from ase import build\n",
    "ch3nh2 = build.molecule('CH3NO2')\n",
    "view(ch3nh2, viewer='ngl')"
   ]
  },
  {
   "cell_type": "markdown",
   "metadata": {},
   "source": [
    "Jupyter Notebook can also be used to visualize entries from external databases, like the PDB database. We can query them with the name.\n",
    "Let's have a look at the main proteaze of the 2019-nCoV coronavirus."
   ]
  },
  {
   "cell_type": "code",
   "execution_count": null,
   "metadata": {},
   "outputs": [],
   "source": [
    "import nglview\n",
    "import os\n",
    "os.environ['HTTPS_PROXY']='http://172.18.12.30:8123'\n",
    "os.environ['HTTP_PROXY']='http://172.18.12.30:8123'"
      ]
     },
  {
   "cell_type": "code",
   "execution_count": null,
     "metadata": {},
   "outputs": [],
   "source": [
    "# This command will query the online database for the given PDB ID\n",
    "view = nglview.show_pdbid(\"6lu7\")"
   ]
  },
  {
   "cell_type": "code",
   "execution_count": null,
     "metadata": {},
   "outputs": [],
   "source": [
    "view.render_image()\n",
    "view"
   ]
  },
  {
   "cell_type": "markdown",
   "metadata": {},
   "source": [
    "Notice how clicking on the protein shows the clicked atom exact location (residue)."
   ]
  },
  {
   "cell_type": "markdown",
   "metadata": {},
   "source": [
    "NGLView offers a large number of options to allow for customized view."
   ]
  },
  {
   "cell_type": "code",
   "execution_count": null,
   "metadata": {},
   "outputs": [],
   "source": [
    "view.add_cartoon(selection=\"protein\")\n",
    "view.add_surface(selection=\"protein\", opacity=0.3)\n",
    "\n",
    "# specify color\n",
    "view.add_cartoon(selection=\"protein\", color='blue')\n",
    "view.camera = 'orthographic'\n",
    "view.background = 'yellow'"
   ]
  },
  {
   "cell_type": "markdown",
   "metadata": {},
   "source": [
    "We can of course load local files for viewing as well."
   ]
  },
  {
   "cell_type": "code",
   "execution_count": null,
   "metadata": {},
   "outputs": [],
   "source": [
    "view = nglview.show_structure_file(\"dna.pdb\")"
   ]
  },
  {
   "cell_type": "code",
   "execution_count": null,
   "metadata": {},
   "outputs": [],
   "source": [
    "view.add_cartoon()"
   ]
  },
  {
   "cell_type": "code",
   "execution_count": null,
   "metadata": {},
   "outputs": [],
   "source": [
    "view"
   ]
  }
 ],
 "metadata": {
  "kernelspec": {
   "display_name": "Python 3",
   "language": "python",
   "name": "python3"
  },
  "language_info": {
   "codemirror_mode": {
    "name": "ipython",
    "version": 3
   },
   "file_extension": ".py",
   "mimetype": "text/x-python",
   "name": "python",
   "nbconvert_exporter": "python",
   "pygments_lexer": "ipython3",
   "version": "3.7.4"
  }
 },
 "nbformat": 4,
 "nbformat_minor": 2
}
