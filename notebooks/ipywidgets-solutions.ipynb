{
 "cells": [
  {
   "cell_type": "markdown",
   "metadata": {},
   "source": [
    "# Solutions to Ipywidgets exercises"
   ]
  },
  {
   "cell_type": "code",
   "execution_count": null,
   "metadata": {},
   "outputs": [],
   "source": [
    "import ipywidgets as widgets\n",
    "from IPython.display import display\n",
    "import numpy as np\n",
    "import matplotlib.pyplot as plt"
   ]
  },
  {
   "cell_type": "code",
   "execution_count": null,
   "metadata": {},
   "outputs": [],
   "source": [
    "%matplotlib notebook"
   ]
  },
  {
   "cell_type": "markdown",
   "metadata": {},
   "source": [
    "## Use a slider to change the number of scatter points in a Matplotlib figure"
   ]
  },
  {
   "cell_type": "code",
   "execution_count": null,
   "metadata": {},
   "outputs": [],
   "source": [
    "N = 100\n",
    "x = np.random.normal(0.0, scale=20.0, size=N)\n",
    "y = np.random.normal(0.0, scale=20.0, size=N)\n",
    "\n",
    "fig, ax = plt.subplots()\n",
    "scat = ax.scatter(x, y, color=\"blue\", alpha=0.5)\n",
    "\n",
    "cp = widgets.ColorPicker(\n",
    "    concise=False,\n",
    "    description='Pick a color',\n",
    "    value='blue',\n",
    "    disabled=False\n",
    ")\n",
    "\n",
    "def update_scatter(change):\n",
    "    ax.collections = []\n",
    "    M = int(change[\"new\"])\n",
    "    x = np.random.normal(0.0, scale=20.0, size=M)\n",
    "    y = np.random.normal(0.0, scale=20.0, size=M)\n",
    "    ax.scatter(x, y, color=cp.value, alpha=0.5)\n",
    "\n",
    "sl = widgets.FloatLogSlider(\n",
    "    value=N,\n",
    "    base=10,\n",
    "    min=0, # max exponent of base\n",
    "    max=5, # min exponent of base\n",
    "    step=0.1, # exponent step\n",
    "    description='Log Slider'\n",
    ")\n",
    "\n",
    "sl.observe(update_scatter, names=\"value\")\n",
    "\n",
    "def update_color(change):\n",
    "    ax.collections[-1].set_color(change[\"new\"])\n",
    "\n",
    "cp.observe(update_color, names=\"value\")\n",
    "\n",
    "display(widgets.HBox([sl, cp]))"
   ]
  },
  {
   "cell_type": "code",
   "execution_count": null,
   "metadata": {},
   "outputs": [],
   "source": []
  }
 ],
 "metadata": {
  "kernelspec": {
   "display_name": "Python 3",
   "language": "python",
   "name": "python3"
  },
  "language_info": {
   "codemirror_mode": {
    "name": "ipython",
    "version": 3
   },
   "file_extension": ".py",
   "mimetype": "text/x-python",
   "name": "python",
   "nbconvert_exporter": "python",
   "pygments_lexer": "ipython3",
   "version": "3.7.4"
  }
 },
 "nbformat": 4,
 "nbformat_minor": 2
}
