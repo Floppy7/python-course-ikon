{
 "cells": [
  {
   "cell_type": "markdown",
   "metadata": {},
   "source": [
    "# Scientific Libraries: Numpy\n",
    "\n",
    "Numpy is an ubiquitously used Python library, especially in the scientific community.\n",
    "It provides fast multi-dimensional arrays of data such as integers or floating-point values.\n",
    "Many other Python libraries for higher-level functionality such as [plotting](plotting-with-matplotlib.ipynb) or [fitting](fitting-scipy.ipynb).\n",
    "\n",
    "Numpy is typically imported under the name `np`:"
   ]
  },
  {
   "cell_type": "code",
   "execution_count": null,
   "metadata": {},
   "outputs": [],
   "source": [
    "import numpy as np"
   ]
  },
  {
   "cell_type": "markdown",
   "metadata": {},
   "source": [
    "## Creating arrays\n",
    "\n",
    "Commonly, Numpy arrays are created with either a pattern, or from an existing Python array-like such as a `list`:"
   ]
  },
  {
   "cell_type": "code",
   "execution_count": null,
   "metadata": {},
   "outputs": [],
   "source": [
    "a = np.array([1.5,3.5,4.5])\n",
    "# Just typing the name of a variable will print its representation\n",
    "a"
   ]
  },
  {
   "cell_type": "markdown",
   "metadata": {},
   "source": [
    "More examples:"
   ]
  },
  {
   "cell_type": "code",
   "execution_count": null,
   "metadata": {},
   "outputs": [],
   "source": [
    "print(np.zeros(4))\n",
    "print(np.ones(3))\n",
    "print(np.arange(5))\n",
    "print(np.arange(1.5, 3.5, step=0.3))\n",
    "print(np.linspace(100, 1000, num=7))"
   ]
  },
  {
   "cell_type": "markdown",
   "metadata": {},
   "source": [
    "Multi-dimensional arrays are created either by specifying a `shape` argument, or by using `reshape`:"
   ]
  },
  {
   "cell_type": "code",
   "execution_count": null,
   "metadata": {},
   "outputs": [],
   "source": [
    "a = np.zeros(shape=(4,3))\n",
    "a"
   ]
  },
  {
   "cell_type": "code",
   "execution_count": null,
   "metadata": {},
   "outputs": [],
   "source": [
    "a = np.array([1,2,3,4,5,6]).reshape((2,3))\n",
    "a"
   ]
  },
  {
   "cell_type": "markdown",
   "metadata": {},
   "source": [
    "It is important to note that the *last* size in the `shape` argument is the *inner* index, i.e., Numpy uses C-style order for arrays (unless specified otherwise, see the `order` parameter, e.g., https://docs.scipy.org/doc/numpy/reference/generated/numpy.zeros.html)."
   ]
  },
  {
   "cell_type": "markdown",
   "metadata": {},
   "source": [
    "## Slicing and views\n",
    "\n",
    "Much of the power of Numpy comes from its convenient slicing-syntax, a generalization of slicing known from the Python builtin `list`.\n",
    "A recap of slicing for `list`:"
   ]
  },
  {
   "cell_type": "code",
   "execution_count": null,
   "metadata": {},
   "outputs": [],
   "source": [
    "l = list(range(8)) # NOT a numpy array\n",
    "print(l) # the full list\n",
    "print(l[4]) # fifth item in the list\n",
    "print(l[-2]) # second item from the back of the list\n",
    "print(l[:2]) # range -> first two items\n",
    "print(l[3:5]) # range -> items 3 to 5 (exclusive)\n",
    "print(l[1:7:2]) # range -> items 1 to 7 (exclusive), with stride 2 (\"every other\")"
   ]
  },
  {
   "cell_type": "markdown",
   "metadata": {},
   "source": [
    "**Exercise (1): Slicing a 1-D Numpy array**\n",
    "\n",
    "Experiment with accessing and slicing a 1-D Numpy array with indices and slices (using the `begin:end` notation):"
   ]
  },
  {
   "cell_type": "code",
   "execution_count": null,
   "metadata": {},
   "outputs": [],
   "source": [
    "a = np.arange(8)\n",
    "print(a)\n",
    "print(a[3])\n",
    "# -- YOUR CODE HERE --\n",
    "# --------------------"
   ]
  },
  {
   "cell_type": "markdown",
   "metadata": {},
   "source": [
    "For multi-dimensional arrays, we can specify indices and slices for each dimension separately.\n",
    "Consider a 2-D array:"
   ]
  },
  {
   "cell_type": "code",
   "execution_count": null,
   "metadata": {},
   "outputs": [],
   "source": [
    "a = np.arange(8).reshape((2,4))\n",
    "a"
   ]
  },
  {
   "cell_type": "markdown",
   "metadata": {},
   "source": [
    "With just a single index, the *outer* dimension is sliced:"
   ]
  },
  {
   "cell_type": "code",
   "execution_count": null,
   "metadata": {},
   "outputs": [],
   "source": [
    "a[1]"
   ]
  },
  {
   "cell_type": "markdown",
   "metadata": {},
   "source": [
    "Slicing again would return an individual element of the array:"
   ]
  },
  {
   "cell_type": "code",
   "execution_count": null,
   "metadata": {},
   "outputs": [],
   "source": [
    "a[1][1]"
   ]
  },
  {
   "cell_type": "markdown",
   "metadata": {},
   "source": [
    "It is more convenient and common to use a different syntax though, separting indices or slices for each dimension by a comma:"
   ]
  },
  {
   "cell_type": "code",
   "execution_count": null,
   "metadata": {
    "scrolled": true
   },
   "outputs": [],
   "source": [
    "a[1,1]"
   ]
  },
  {
   "cell_type": "markdown",
   "metadata": {},
   "source": [
    "**Exercise (2): Multi-dimensional slicing with ranges**\n",
    "\n",
    "Combine range-based slicing (using `begin:end`) with the `,` (comma) notation shown above:"
   ]
  },
  {
   "cell_type": "code",
   "execution_count": null,
   "metadata": {},
   "outputs": [],
   "source": [
    "# -- YOUR CODE HERE --\n",
    "# --------------------"
   ]
  },
  {
   "cell_type": "markdown",
   "metadata": {},
   "source": [
    "To slice only the *inner* dimension we can specify the \"full range\" for the other dimension(s):"
   ]
  },
  {
   "cell_type": "code",
   "execution_count": null,
   "metadata": {},
   "outputs": [],
   "source": [
    "a[:,1:3]"
   ]
  },
  {
   "cell_type": "code",
   "execution_count": null,
   "metadata": {},
   "outputs": [],
   "source": []
  },
  {
   "cell_type": "markdown",
   "metadata": {},
   "source": [
    "## Data types\n",
    "\n",
    "Numpy arrays supports a variety of data-types (`dtype`).\n",
    "The most commonly used ones are integers and floating-point numbers in either double-precison or single-precision."
   ]
  },
  {
   "cell_type": "code",
   "execution_count": null,
   "metadata": {},
   "outputs": [],
   "source": []
  }
 ],
 "metadata": {
  "kernelspec": {
   "display_name": "Python 3",
   "language": "python",
   "name": "python3"
  },
  "language_info": {
   "codemirror_mode": {
    "name": "ipython",
    "version": 3
   },
   "file_extension": ".py",
   "mimetype": "text/x-python",
   "name": "python",
   "nbconvert_exporter": "python",
   "pygments_lexer": "ipython3",
   "version": "3.7.3"
  }
 },
 "nbformat": 4,
 "nbformat_minor": 4
}
