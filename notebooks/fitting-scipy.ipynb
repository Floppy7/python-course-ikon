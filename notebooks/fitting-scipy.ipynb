{
 "cells": [
  {
   "cell_type": "markdown",
   "metadata": {
    "slideshow": {
     "slide_type": "slide"
    }
   },
   "source": [
    "<div class=\"alert alert-block alert-warning\">\n",
    "<b>Disclaimer:</b> The main objective of this jupyter notebook is to show how to fit simple data by\n",
    "    \n",
    "- defining a fitting model\n",
    "- creating the reference data to which the model will be fitted to. In standard cases, this step should be replaced by loading your experimental data\n",
    "- setting and running the fit   \n",
    "- extracting and displaying information about the results\n",
    "\n",
    "The syntax to fit data is minimizer-dependent. Here we focus on a fitting routing provided by the `scipy` python package: <a href=\"https://docs.scipy.org/doc/scipy/reference/generated/scipy.optimize.curve_fit.html\">scipy.optimize.curve_fit</a>.   \n",
    "    \n",
    "Please also note that the initial guessed parameters might not be optimal, resulting in a poor fit of the reference data.\n",
    "</div>\n",
    "\n",
    "\n",
    "<a id='Table of Contents'></a><h1>Table of Contents</h1>\n",
    "\n",
    "- <a href='#def_function'>Definition of the fitting model</a>\n",
    "- <a href='#imports'>Importing libraries</a>\n",
    "- <a href='#anim_plot'>Plot of the fitting model</a>\n",
    "- <a href='#ref_data'>Creating reference data</a>\n",
    "- <a href='#fitting'>Setting and fitting</a>\n",
    "- <a href='#plot'>Displaying the results</a>  \n",
    "- <a href='#exercise'>Exercises</a>"
   ]
  },
  {
   "cell_type": "markdown",
   "metadata": {
    "slideshow": {
     "slide_type": "slide"
    }
   },
   "source": [
    "(<a href='#Table of Contents'>Top</a>)<a id='imports'></a><h2>Importing libraries</h2>\n",
    "\n",
    "Please refer to the notebooks about `numpy` and `matplotlib` for more details. "
   ]
  },
  {
   "cell_type": "code",
   "execution_count": 1,
   "metadata": {
    "slideshow": {
     "slide_type": "fragment"
    }
   },
   "outputs": [],
   "source": [
    "# import python modules for plotting, fitting\n",
    "import numpy as np\n",
    "%matplotlib inline\n",
    "import matplotlib.pyplot as plt\n",
    "from scipy.optimize import curve_fit\n",
    "\n",
    "# for interactive plot\n",
    "import ipywidgets"
   ]
  },
  {
   "cell_type": "markdown",
   "metadata": {
    "slideshow": {
     "slide_type": "slide"
    }
   },
   "source": [
    "(<a href='#Table of Contents'>Top</a>)<a id='def_function'></a><h2>Definition of the fitting model</h2>\n",
    "\n",
    "Here we define a simple lorentzian function.  \n",
    "\n",
    "Please note that there are other options, such as importing [`lmfit.LorentzianModel`](https://lmfit.github.io/lmfit-py/builtin_models.html#lmfit.models.LorentzianModel),  [`QENSmodels.lorentzian`](https://github.com/QENSlibrary/QENSmodels/blob/master/QENSmodels/lorentzian.py) or [`pyspec.fitfuncs.lor`](https://pythonhosted.org/pyspec/fit.html)."
   ]
  },
  {
   "cell_type": "code",
   "execution_count": 2,
   "metadata": {
    "slideshow": {
     "slide_type": "fragment"
    }
   },
   "outputs": [],
   "source": [
    "def lorentzian(xx, scale=1.0, center=1.0, hwhm=3.0):\n",
    "    if hwhm == 0:\n",
    "        raise ValueError('hwhm of the lorentzian is equal to zero.')\n",
    "    return scale * hwhm / ((xx-center)**2 + hwhm**2) / np.pi"
   ]
  },
  {
   "cell_type": "markdown",
   "metadata": {
    "slideshow": {
     "slide_type": "slide"
    }
   },
   "source": [
    "(<a href='#Table of Contents'>Top</a>)<a id='anim_plot'></a><h2>Plot of the fitting model</h2>\n",
    "\n",
    "The widget below shows how the variations of the lorentzian's parameters, *Scale*, *Center* and *FWHM*,  influence its shape."
   ]
  },
  {
   "cell_type": "code",
   "execution_count": 3,
   "metadata": {
    "slideshow": {
     "slide_type": "fragment"
    }
   },
   "outputs": [
    {
     "data": {
      "application/vnd.jupyter.widget-view+json": {
       "model_id": "71b1b2488a7a4cf0899078bc33b54e64",
       "version_major": 2,
       "version_minor": 0
      },
      "text/plain": [
       "interactive(children=(IntSlider(value=5, description='scale', max=10, min=1), IntSlider(value=5, description='…"
      ]
     },
     "metadata": {},
     "output_type": "display_data"
    },
    {
     "data": {
      "application/vnd.jupyter.widget-view+json": {
       "model_id": "cd58cc1d0b384ab3a6b378d78e255fc6",
       "version_major": 2,
       "version_minor": 0
      },
      "text/plain": [
       "Button(description='Reset', style=ButtonStyle())"
      ]
     },
     "metadata": {},
     "output_type": "display_data"
    }
   ],
   "source": [
    "# define values of the variable of the functions to be used in this tutorial\n",
    "xx = np.linspace(-10, 10, 500)\n",
    "\n",
    "# define function to be plotted\n",
    "def interactive_plot(scale, center, hwhm):\n",
    "    plt.plot(xx, lorentzian(xx, \n",
    "                            float(scale), \n",
    "                            float(center), \n",
    "                            float(hwhm)))\n",
    "    plt.ylabel('lorentzian(x,{scale},{center},{hwhm})'.\n",
    "               format(scale=scale, center=center, hwhm=hwhm))\n",
    "    plt.xlabel('x')\n",
    "    plt.grid()\n",
    "    plt.show()\n",
    "\n",
    "# define modifiable parameters and their range of variations\n",
    "interactive_plot = ipywidgets.interactive(interactive_plot, \n",
    "                                          scale=(1, 10), \n",
    "                                          center=(0, 10), \n",
    "                                          hwhm=(1, 5))\n",
    "# Define function to reset all parameters' values to the initial ones\n",
    "def reset_values(b):\n",
    "    \"\"\"Reset the interactive plots to inital values.\"\"\"\n",
    "    interactive_plot.children[0].value = 5\n",
    "    interactive_plot.children[1].value = 5\n",
    "    interactive_plot.children[2].value = 3\n",
    "\n",
    "# Define reset button and occurring action when clicking on it\n",
    "reset_button = ipywidgets.Button(description = \"Reset\")\n",
    "reset_button.on_click(reset_values)\n",
    "\n",
    "# define layout with plots, sliders for parameters' values \n",
    "# and reset button\n",
    "output = interactive_plot.children[-1]\n",
    "output.layout.height = '270px'\n",
    "display(interactive_plot, reset_button)"
   ]
  },
  {
   "cell_type": "markdown",
   "metadata": {
    "slideshow": {
     "slide_type": "slide"
    }
   },
   "source": [
    "(<a href='#Table of Contents'>Top</a>)<a id='ref_data'></a><h2>Creating reference data</h2>\n",
    "\n",
    "**Input:** the reference data for this simple example correspond to a Lorentzian with added noise."
   ]
  },
  {
   "cell_type": "code",
   "execution_count": 4,
   "metadata": {
    "slideshow": {
     "slide_type": "fragment"
    }
   },
   "outputs": [
    {
     "data": {
      "image/png": "[encoded data removed]",
      "text/plain": [
       "<Figure size 432x288 with 1 Axes>"
      ]
     },
     "metadata": {
      "needs_background": "light"
     },
     "output_type": "display_data"
    }
   ],
   "source": [
    "# Creation of reference data\n",
    "# lorentzian with noise added as background and modulation in its amplitude\n",
    "added_noise = 0.1*np.random.normal(0, 1, 500)\n",
    "lorentzian_noisy = lorentzian(xx, 0.89, -0.025, 0.45)*(1. + 0.1*added_noise) + 0.01*added_noise\n",
    "\n",
    "# Display reference data\n",
    "plt.plot(xx, lorentzian_noisy, label='reference data')\n",
    "plt.xlabel('x')\n",
    "plt.grid()\n",
    "plt.legend()\n",
    "plt.show()"
   ]
  },
  {
   "cell_type": "markdown",
   "metadata": {
    "slideshow": {
     "slide_type": "slide"
    }
   },
   "source": [
    "(<a href='#Table of Contents'>Top</a>)<a id='fitting'></a><h2>Setting and fitting</h2>\n",
    "\n",
    "The fit is performed using `scipy.optimize.curve_fit`. <br> The example is based on implementations from https://docs.scipy.org/doc/scipy/reference/generated/scipy.optimize.curve_fit.html"
   ]
  },
  {
   "cell_type": "code",
   "execution_count": 5,
   "metadata": {
    "slideshow": {
     "slide_type": "fragment"
    }
   },
   "outputs": [
    {
     "data": {
      "image/png": "[encoded data removed]",
      "text/plain": [
       "<Figure size 432x288 with 1 Axes>"
      ]
     },
     "metadata": {
      "needs_background": "light"
     },
     "output_type": "display_data"
    }
   ],
   "source": [
    "# define set of initial values for the parameters to be refined \n",
    "initial_parameters_values = [1, 0.2, 0.5]\n",
    "\n",
    "# plot initial model and reference data\n",
    "plt.plot(xx, lorentzian_noisy, 'b-', label='reference data')\n",
    "plt.plot(xx, lorentzian(xx, *initial_parameters_values), 'r.', label='model with initial guesses')\n",
    "plt.xlabel('x')\n",
    "plt.grid()\n",
    "plt.legend(bbox_to_anchor=(1.05, 1), loc=2, borderaxespad=0.)\n",
    "plt.show()"
   ]
  },
  {
   "cell_type": "markdown",
   "metadata": {},
   "source": [
    "`scipy.optimize_curve_fit` offers the possibility of choosing the method for optimization. Here we are going exploit this option by providing a widget to select your method."
   ]
  },
  {
   "cell_type": "code",
   "execution_count": 6,
   "metadata": {},
   "outputs": [
    {
     "data": {
      "application/vnd.jupyter.widget-view+json": {
       "model_id": "f23105c50bee4987a9f7c71756576ddc",
       "version_major": 2,
       "version_minor": 0
      },
      "text/plain": [
       "RadioButtons(description='Method for optimization', options=('lm', 'trf', 'dogbox'), style=DescriptionStyle(de…"
      ]
     },
     "metadata": {},
     "output_type": "display_data"
    }
   ],
   "source": [
    "chosen_method_optim = ipywidgets.RadioButtons(\n",
    "    options=['lm', 'trf', 'dogbox'],\n",
    "    value='lm', # Defaults to 'lm'\n",
    "    description='Method for optimization',\n",
    "    style={'description_width': 'initial'},\n",
    "    disabled=False\n",
    ")\n",
    "\n",
    "chosen_method_optim"
   ]
  },
  {
   "cell_type": "code",
   "execution_count": 9,
   "metadata": {},
   "outputs": [],
   "source": [
    "# perform fit\n",
    "print()\n",
    "params, params_covariance = curve_fit(lorentzian, xx, lorentzian_noisy, method=chosen_method_optim.value, p0=initial_parameters_values)"
   ]
  },
  {
   "cell_type": "markdown",
   "metadata": {
    "slideshow": {
     "slide_type": "slide"
    }
   },
   "source": [
    "(<a href='#Table of Contents'>Top</a>)<a id='plot'></a><h2>Displaying the results</h2>"
   ]
  },
  {
   "cell_type": "code",
   "execution_count": 10,
   "metadata": {
    "scrolled": true,
    "slideshow": {
     "slide_type": "fragment"
    }
   },
   "outputs": [
    {
     "name": "stdout",
     "output_type": "stream",
     "text": [
      "Values of refined parameters:\n",
      "scale: 0.8907506388535489 +/- 0.0008231207433414048\n",
      "center : -0.024078711326271058 +/- 0.0004164792800140074\n",
      "HWHM 0.45076764383978524 +/- 0.0005890924242074814\n"
     ]
    }
   ],
   "source": [
    "# Calculation of the errors on the refined parameters:\n",
    "params_error = np.sqrt(np.diag(params_covariance))\n",
    "\n",
    "print('Values of refined parameters:')\n",
    "print('scale:', params[0],'+/-', params_error[0])\n",
    "print('center :', params[1],'+/-', params_error[1])\n",
    "print('HWHM', params[2],'+/-', params_error[2])"
   ]
  },
  {
   "cell_type": "code",
   "execution_count": null,
   "metadata": {
    "slideshow": {
     "slide_type": "subslide"
    }
   },
   "outputs": [],
   "source": [
    "# Comparison of reference data with fitting result\n",
    "plt.plot(xx, lorentzian_noisy, 'b-', label='reference data')\n",
    "plt.plot(xx, lorentzian(xx, *params), 'g--', label='fit: %5.3f, %5.3f, %5.3f' % tuple(params))\n",
    "plt.legend()\n",
    "plt.xlabel('x')\n",
    "plt.grid()\n",
    "plt.show()"
   ]
  },
  {
   "cell_type": "markdown",
   "metadata": {},
   "source": [
    "(<a href='#Table of Contents'>Top</a>)<a id='exercise'></a><h2>Exercise</h2>\n",
    "This exercise uses the same procedure as above but with slightly different data.  \n",
    "The objective is to determine the new fitting results.  \n",
    "\n",
    "**(1)** Determine the initial guesses for the amplitude, center and width, *Scale*, *Center* and *FWHM* to fit the following data based on a Lorentzian profile with added noise running the cell below and using the generated widget."
   ]
  },
  {
   "cell_type": "code",
   "execution_count": null,
   "metadata": {},
   "outputs": [],
   "source": [
    "xx = np.linspace(-10,10,500)\n",
    "\n",
    "lorentzian_noisy_exo = lorentzian(xx, 3, 4, 0.5)*(1. + 0.1*np.random.normal(0,1,500)) + 0.01*np.random.normal(0,1,500)\n",
    "\n",
    "def interactive_plot_exo(scale, center, hwhm):\n",
    "    plt.plot(xx, lorentzian(xx, float(scale), float(center), float(hwhm)), label='model to be fitted')\n",
    "    plt.ylabel('lorentzian(x,{scale},{center},{hwhm})'.\n",
    "               format(scale=scale, center=center, hwhm=hwhm))\n",
    "    \n",
    "    plt.plot(xx, lorentzian_noisy_exo, '', label=\"experimental data\")\n",
    "    plt.xlabel('x')\n",
    "    plt.legend()\n",
    "    plt.grid()\n",
    "    plt.show()\n",
    "\n",
    "interactive_plot_exo = ipywidgets.interactive(interactive_plot_exo, \n",
    "                                          scale=(1, 10), \n",
    "                                          center=(-5, 5), \n",
    "                                          hwhm=(0.1, 1))\n",
    "\n",
    "\n",
    "def reset_values_exo(b):\n",
    "    \"\"\"Reset the interactive plots to inital values.\"\"\"\n",
    "    interactive_plot_exo.children[0].value = 5\n",
    "    interactive_plot_exo.children[1].value = -3\n",
    "    interactive_plot_exo.children[2].value = 0.1\n",
    "\n",
    "reset_button_exo = ipywidgets.Button(description = \"Reset\")\n",
    "reset_button_exo.on_click(reset_values_exo)\n",
    "\n",
    "output_exo = interactive_plot_exo.children[-1]\n",
    "output_exo.layout.height = '270px'\n",
    "display(interactive_plot_exo, reset_button_exo)"
   ]
  },
  {
   "cell_type": "markdown",
   "metadata": {},
   "source": [
    "**(2)** Running the following cells will:\n",
    "- assign the values you determined just above to your model\n",
    "- plot the initial model and the experimental data\n",
    "- run the fit"
   ]
  },
  {
   "cell_type": "code",
   "execution_count": null,
   "metadata": {},
   "outputs": [],
   "source": [
    "initial_parameters_values_exo = [interactive_plot_exo.children[i].value for i in range(3)]\n",
    "initial_parameters_values_exo"
   ]
  },
  {
   "cell_type": "markdown",
   "metadata": {},
   "source": [
    "The syntax above uses list comprehensions (as described in another tutorial). Options for such inputs are:\n",
    "- list comprehension\n",
    "```python\n",
    "x = [i for i in range(10)]```\n",
    "- with a standard `for` loop:\n",
    "```python\n",
    "x = []\n",
    "for i in range(10):\n",
    "    x[i] = i\n",
    "```\n",
    "- entered by hand\n",
    "```python \n",
    "x = [0, 1, 2, 3, , 4, 5, 6, 7, 8, 9]```"
   ]
  },
  {
   "cell_type": "code",
   "execution_count": null,
   "metadata": {},
   "outputs": [],
   "source": [
    "plt.plot(xx, lorentzian_noisy_exo, 'b-', label='reference data for exercise')\n",
    "plt.plot(xx, lorentzian(xx, *initial_parameters_values_exo), 'r.', label='model with initial guesses')\n",
    "plt.xlabel('x')\n",
    "plt.title(\"Exercise: plot before fit\")\n",
    "plt.grid()\n",
    "plt.legend(bbox_to_anchor=(1.05, 1), loc=2, borderaxespad=0.)\n",
    "plt.show()"
   ]
  },
  {
   "cell_type": "code",
   "execution_count": null,
   "metadata": {},
   "outputs": [],
   "source": [
    "params_exo, pcov_exo = curve_fit(lorentzian, xx, lorentzian_noisy_exo, \n",
    "                               p0=initial_parameters_values_exo)"
   ]
  },
  {
   "cell_type": "markdown",
   "metadata": {},
   "source": [
    "**(3)** Display the final values of the refined parameters"
   ]
  },
  {
   "cell_type": "code",
   "execution_count": null,
   "metadata": {
    "scrolled": true
   },
   "outputs": [],
   "source": [
    "print('Values of refined parameters:')\n",
    "print('scale:', params_exo[0])\n",
    "print('center :', params_exo[1])\n",
    "print('HWHM', params_exo[2])\n",
    "print('to be compared to 3, 4, 0.5')"
   ]
  },
  {
   "cell_type": "markdown",
   "metadata": {},
   "source": [
    "**(4)** Plot the reference data and the model  \n",
    "\n",
    "Replace the numbers in brackets below with the relevant name:   \n",
    "(1) name of reference data  \n",
    "(2) name of list of values of fitted parameters \n",
    "\n",
    "Refer to the <a href='#plot'>first example</a> for help"
   ]
  },
  {
   "cell_type": "code",
   "execution_count": null,
   "metadata": {},
   "outputs": [],
   "source": [
    "plt.plot(xx, (1), 'b.-', label='reference data')\n",
    "plt.plot(xx, lorentzian(xx, *(2)), 'g+', label='fit: %5.3f, %5.3f, %5.3f' % tuple(params_exo))\n",
    "plt.legend()\n",
    "\n",
    "plt.xlabel('x')\n",
    "plt.grid()\n",
    "plt.show()"
   ]
  },
  {
   "cell_type": "markdown",
   "metadata": {},
   "source": [
    "# Additional references\n",
    "Other fitting packages could be used. For example,\n",
    "- [bumps](https://bumps.readthedocs.io/en/latest/)\n",
    "- [lmfit](https://lmfit.github.io/lmfit-py/)\n",
    "\n",
    "For further details about `ipywidgets`, please refer to the following [link](https://ipywidgets.readthedocs.io/en/latest/index.html)."
   ]
  },
  {
   "cell_type": "code",
   "execution_count": null,
   "metadata": {},
   "outputs": [],
   "source": []
  }
 ],
 "metadata": {
  "kernelspec": {
   "display_name": "Python 3",
   "language": "python",
   "name": "python3"
  },
  "language_info": {
   "codemirror_mode": {
    "name": "ipython",
    "version": 3
   },
   "file_extension": ".py",
   "mimetype": "text/x-python",
   "name": "python",
   "nbconvert_exporter": "python",
   "pygments_lexer": "ipython3",
   "version": "3.7.3"
  },
  "livereveal": {
   "scroll": true
  },
  "toc": {
   "base_numbering": 1,
   "nav_menu": {},
   "number_sections": true,
   "sideBar": true,
   "skip_h1_title": false,
   "title_cell": "Table of Contents",
   "title_sidebar": "Contents",
   "toc_cell": false,
   "toc_position": {},
   "toc_section_display": true,
   "toc_window_display": false
  },
  "varInspector": {
   "cols": {
    "lenName": 16,
    "lenType": 16,
    "lenVar": 40
   },
   "kernels_config": {
    "python": {
     "delete_cmd_postfix": "",
     "delete_cmd_prefix": "del ",
     "library": "var_list.py",
     "varRefreshCmd": "print(var_dic_list())"
    },
    "r": {
     "delete_cmd_postfix": ") ",
     "delete_cmd_prefix": "rm(",
     "library": "var_list.r",
     "varRefreshCmd": "cat(var_dic_list()) "
    }
   },
   "types_to_exclude": [
    "module",
    "function",
    "builtin_function_or_method",
    "instance",
    "_Feature"
   ],
   "window_display": false
  }
 },
 "nbformat": 4,
 "nbformat_minor": 2
}
