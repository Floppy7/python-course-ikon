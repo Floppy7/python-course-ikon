{
 "cells": [
  {
   "cell_type": "markdown",
   "metadata": {},
   "source": [
    "# Visualize a \"weak\" part of corona virus\n",
    "\n",
    "<img src='covid_19.jpg'> (source: https://www.novateinbio.com) <br><br>\n",
    "SARS-CoV-2 (2019-nCoV) contains the spike protein, the envelope protein, the membrane protein, and the nucleocapsid protein. The spike protein (S-protein) mediates receptor binding and membrane fusion and is the common target for neutralizing antibodies and vaccines (https://www.sinobiological.com/2019-ncov-antigen-reagents.html). The crystal structure of the part (domain) of S-protein is avaialable from PDB databank: http://www.rcsb.org/structure/6LVN. Your task will be to visualize a part of the spike protein. "
   ]
  },
  {
   "cell_type": "markdown",
   "metadata": {},
   "source": [
    "**Exercise (1)** <br>\n",
    "`6lvnA.pdb` is located in the same folder as this exercise notebook. It is a PDB file, which contains x,y,z atoms cooridnates (and lot of other stuff - you can check the content of it). Read in coordinates data from file. **Hint:** You can use `numpy` function `xyz_data = genfromtxt(file_name, skip_header=#number_of_lines_to_skip)`. "
   ]
  },
  {
   "cell_type": "code",
   "execution_count": 8,
   "metadata": {},
   "outputs": [],
   "source": [
    "# -- YOUR CODE HERE --\n",
    "# --------------------"
   ]
  },
  {
   "cell_type": "markdown",
   "metadata": {},
   "source": [
    "**Exercise (2)**<br>\n",
    "Now extract x,y,z coordinates from the data. **Hint:** If you used `genfromtxt` to read in `xyz_data` you can access x,y,z using slices, e.g. `x = xyz_data[:,0]` where `0` means extract first collumn (see scientific-libraries-numpy to learn more about slices)  "
   ]
  },
  {
   "cell_type": "code",
   "execution_count": 9,
   "metadata": {},
   "outputs": [],
   "source": [
    "# -- YOUR CODE HERE --\n",
    "# --------------------"
   ]
  },
  {
   "cell_type": "markdown",
   "metadata": {},
   "source": [
    "**Exercise (3)** <br>\n",
    "Plot x,y,z coordinates on 3d plot (see plotting-with-matplotlib for the reference)"
   ]
  },
  {
   "cell_type": "code",
   "execution_count": 13,
   "metadata": {},
   "outputs": [],
   "source": [
    "# -- YOUR CODE HERE --\n",
    "# --------------------"
   ]
  },
  {
   "cell_type": "markdown",
   "metadata": {},
   "source": [
    "**Exercise (4)** <br>\n",
    "Visualize the structure (6lvnA.pdb) using nglview (see visualization_tutorial) "
   ]
  },
  {
   "cell_type": "code",
   "execution_count": null,
   "metadata": {},
   "outputs": [],
   "source": [
    "# -- YOUR CODE HERE --\n",
    "# --------------------"
   ]
  }
 ],
 "metadata": {
  "kernelspec": {
   "display_name": "Python 3",
   "language": "python",
   "name": "python3"
  },
  "language_info": {
   "codemirror_mode": {
    "name": "ipython",
    "version": 3
   },
   "file_extension": ".py",
   "mimetype": "text/x-python",
   "name": "python",
   "nbconvert_exporter": "python",
   "pygments_lexer": "ipython3",
   "version": "3.7.3"
  },
  "varInspector": {
   "cols": {
    "lenName": 16,
    "lenType": 16,
    "lenVar": 40
   },
   "kernels_config": {
    "python": {
     "delete_cmd_postfix": "",
     "delete_cmd_prefix": "del ",
     "library": "var_list.py",
     "varRefreshCmd": "print(var_dic_list())"
    },
    "r": {
     "delete_cmd_postfix": ") ",
     "delete_cmd_prefix": "rm(",
     "library": "var_list.r",
     "varRefreshCmd": "cat(var_dic_list()) "
    }
   },
   "types_to_exclude": [
    "module",
    "function",
    "builtin_function_or_method",
    "instance",
    "_Feature"
   ],
   "window_display": false
  }
 },
 "nbformat": 4,
 "nbformat_minor": 2
}
