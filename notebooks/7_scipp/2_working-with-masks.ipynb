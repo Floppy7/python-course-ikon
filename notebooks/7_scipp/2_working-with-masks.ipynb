{
 "cells": [
  {
   "cell_type": "code",
   "execution_count": null,
   "metadata": {},
   "outputs": [],
   "source": [
    "import scipp as sc\n",
    "import numpy as np"
   ]
  },
  {
   "cell_type": "markdown",
   "metadata": {},
   "source": [
    "# Part 2: Working with masks\n",
    "\n",
    "## Introduction\n",
    "\n",
    "Scipp supports non-destructive masks stored alongside data.\n",
    "In this part we learn how to create and use masks.\n",
    "As a side effect, the exercises will help in getting more familiar with the basic concepts of operations.\n",
    "\n",
    "We use the same data as in Part 1:"
   ]
  },
  {
   "cell_type": "code",
   "execution_count": null,
   "metadata": {},
   "outputs": [],
   "source": [
    "data = sc.io.open_hdf5(filename='/home/shared/ikon20/loki-at-larmor.hdf5')\n",
    "counts = sc.sum(data, 'tof') # used later\n",
    "data"
   ]
  },
  {
   "cell_type": "markdown",
   "metadata": {},
   "source": [
    "Masks are variables with `dtype=bool`, stored in the `masks` dict of a data array.\n",
    "The result of comparison between variables can thus be used as masks:"
   ]
  },
  {
   "cell_type": "code",
   "execution_count": null,
   "metadata": {},
   "outputs": [],
   "source": [
    "data.coords['spectrum'] < sc.scalar(100)"
   ]
  },
  {
   "cell_type": "markdown",
   "metadata": {},
   "source": [
    "## Exercise 1: Masking a prompt pulse\n",
    "\n",
    "1. Create a prompt-pulse mask for the region between $17500~\\mathrm{\\mu s}$ and $19000~\\mathrm{\\mu s}$.\n",
    "   Notes:\n",
    "   - Use comparison operators such as `==`, `<=` or `>`.\n",
    "   - Combine multiple conditions into one using `&` (\"and\"), `|` (\"or\"), or `^` (\"exclusive or\").\n",
    "   - Masks are stored in a data array by storing them in the `masks` dictionary, e.g., `data.masks['prompt-pulse'] = ...`.\n",
    "   - If something goes wrong, masks can be removed with Python's `del`, e.g., `del data.masks['wrong']`.\n",
    "   - If you run into an error regarding a length mismatch when inserting the coordinate, remember that `'tof'` is a bin-edge coordinate, i.e., it is by 1 longer than the number of bins.\n",
    "     Use, e.g., only the left bin edges, i.e., all but the last, to create the masks.\n",
    "2. Use the HTML view and plot the data after masking to explore the effect.\n",
    "3. Pass a `dict` containing `counts` (computed above as `counts = sc.sum(data, 'tof')`) and the equivalent counts computed *after* masking to `sc.plot`.\n",
    "   Use this to verify that the prompt-pulse mask results in removal of counts."
   ]
  },
  {
   "cell_type": "markdown",
   "metadata": {},
   "source": [
    "## Exercise 2: Masking spatially\n",
    "\n",
    "By masking an `x` range, mask the end of the tubes.\n",
    "- Define `x = sc.geometry.x(data.coords['position'])` to extract only the x-component of the position coordinate.\n",
    "- Create the masks.\n",
    "- Use the instrument view (`sc.neutron.instrument_view(data)`) to inspect the result."
   ]
  },
  {
   "cell_type": "markdown",
   "metadata": {},
   "source": [
    "## Exercise 3: Combining conditions\n",
    "\n",
    "Mask the broken pixels with zero counts near the beam stop (center).\n",
    "- Note that there are pixels at larger scattering angles (larger x) which have real zeros.\n",
    "  These should not be masked.\n",
    "- Combine the condition for zero counts with a spatial mask, e.g., based on `x`, to ensure the mask takes only effect close to the direct beam / beam stop."
   ]
  },
  {
   "cell_type": "code",
   "execution_count": null,
   "metadata": {},
   "outputs": [],
   "source": [
    "# This would mask too much, what needs to be added?\n",
    "counts.data == 0.0 * sc.units.counts"
   ]
  },
  {
   "cell_type": "markdown",
   "metadata": {},
   "source": [
    "## Exercise 4: More spatial masking\n",
    "\n",
    "Pick one (or more, if desired):\n",
    "\n",
    "- Mask a \"circle\" (in $x$-$y$ plane, i.e., a cylinder aligned with $\\hat z$)\n",
    "- Mask a ring based on $x$ and $y$\n",
    "- Mask a scattering-angle ($\\theta$) range.\n",
    "  Hint: The scattering angle can be computed as `theta = sc.neutron.scattering_angle(data)`\n",
    "- Mask a wedge.\n",
    "  Hint: `phi = sc.atan2(y,x)`"
   ]
  },
  {
   "cell_type": "markdown",
   "metadata": {},
   "source": [
    "## Bonus exercise: Generalize techniques learned for masking for grouping\n",
    "\n",
    "- Adapt the code for masking a wedge to return an integer sector index (e.g, 0...5).\n",
    "- Store the result as a coordinate.\n",
    "- Use `groupby` to group by sector.\n",
    "  Note that `sc.groupby(...).copy(group)` can be used to extract a given group by index, instead of applying reductions."
   ]
  },
  {
   "cell_type": "markdown",
   "metadata": {},
   "source": [
    "## Masks in (grouped) reduction operations\n",
    "\n",
    "Finally, let us group according to scattering angle and sum spectra.\n",
    "Questions:\n",
    "- Can you see the effect of the circle/ring/theta-range that you masked above?\n",
    "- Why is the prompt-pulse mask preserved, but not the other masks?"
   ]
  }
 ],
 "metadata": {
  "kernelspec": {
   "display_name": "scipp-ikon20",
   "language": "python",
   "name": "scipp-ikon20"
  },
  "language_info": {
   "codemirror_mode": {
    "name": "ipython",
    "version": 3
   },
   "file_extension": ".py",
   "mimetype": "text/x-python",
   "name": "python",
   "nbconvert_exporter": "python",
   "pygments_lexer": "ipython3",
   "version": "3.7.9"
  }
 },
 "nbformat": 4,
 "nbformat_minor": 4
}
