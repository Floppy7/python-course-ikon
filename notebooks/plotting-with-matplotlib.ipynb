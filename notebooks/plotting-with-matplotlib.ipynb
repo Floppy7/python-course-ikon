{
 "cells": [
  {
   "cell_type": "markdown",
   "metadata": {},
   "source": [
    "# Plotting with Matplotlib\n",
    "\n",
    "[Matplotlib](https://matplotlib.org/) is a Python 2D plotting library which produces publication quality figures in a variety of hardcopy formats and interactive environments across platforms. Matplotlib can be used in Python scripts, the Python and IPython shells, the Jupyter notebook, web application servers, and four graphical user interface toolkits.\n",
    "\n",
    "Matplotlib tries to make easy things easy and hard things possible. You can generate plots, histograms, power spectra, bar charts, errorcharts, scatterplots, etc., with just a few lines of code.\n",
    "\n",
    "Matplotlib has become the gold standard for creating figures for scientific publications."
   ]
  },
  {
   "cell_type": "code",
   "execution_count": null,
   "metadata": {},
   "outputs": [],
   "source": [
    "import numpy as np\n",
    "import matplotlib.pyplot as plt"
   ]
  },
  {
   "cell_type": "markdown",
   "metadata": {},
   "source": [
    "We here activate the `notebook` backend which provides interactive plots in the Jupyter notebook."
   ]
  },
  {
   "cell_type": "code",
   "execution_count": null,
   "metadata": {},
   "outputs": [],
   "source": [
    "%matplotlib notebook"
   ]
  },
  {
   "cell_type": "markdown",
   "metadata": {},
   "source": [
    "## 1. 1D plots\n",
    "\n",
    "### A simple 1D line plot"
   ]
  },
  {
   "cell_type": "code",
   "execution_count": null,
   "metadata": {},
   "outputs": [],
   "source": [
    "N = 50\n",
    "x = np.arange(N)\n",
    "y = np.random.rand(N)\n",
    "fig = plt.figure()\n",
    "ax = fig.add_subplot(111)\n",
    "ax.plot(x, y)\n",
    "ax.set_xlabel(\"Some x label [m]\")\n",
    "ax.set_ylabel(\"A fancy y label [kg]\")\n",
    "ax.set_title(\"A 1D line plot\")"
   ]
  },
  {
   "cell_type": "markdown",
   "metadata": {},
   "source": [
    "### A simple 1D line plot with error bars"
   ]
  },
  {
   "cell_type": "code",
   "execution_count": null,
   "metadata": {},
   "outputs": [],
   "source": [
    "N = 50\n",
    "x = np.arange(N)\n",
    "y = np.random.rand(N)\n",
    "e = 0.1*np.random.rand(N)\n",
    "fig = plt.figure()\n",
    "ax = fig.add_subplot(111)\n",
    "ax.errorbar(x,y,yerr=e)\n",
    "ax.set_xlabel(\"Some x label [m]\")\n",
    "ax.set_ylabel(\"A fancy y label [kg]\")\n",
    "ax.set_title(\"A 1D line plot\")"
   ]
  },
  {
   "cell_type": "markdown",
   "metadata": {},
   "source": [
    "### 1D histogram plot with error bars"
   ]
  },
  {
   "cell_type": "code",
   "execution_count": null,
   "metadata": {},
   "outputs": [],
   "source": [
    "N = 50\n",
    "x = np.arange(N+1)\n",
    "y = np.random.rand(N)\n",
    "e = 0.1*np.random.rand(N)\n",
    "fig = plt.figure()\n",
    "ax = fig.add_subplot(111)\n",
    "ax.bar(0.5*(x[:-1] + x[1:]), y, width=np.ediff1d(x),yerr=e)\n",
    "ax.set_xlabel(\"Some x label [m]\")\n",
    "ax.set_ylabel(\"A fancy y label [kg]\")\n",
    "ax.set_title(\"A 1D histogram plot\")"
   ]
  },
  {
   "cell_type": "markdown",
   "metadata": {},
   "source": [
    "## 2. 2D plots\n",
    "\n",
    "### 2D image/heatmap with uniformly sized pixels"
   ]
  },
  {
   "cell_type": "code",
   "execution_count": null,
   "metadata": {},
   "outputs": [],
   "source": [
    "N = 100\n",
    "M = 50\n",
    "x = np.arange(N+1)\n",
    "y = np.arange(M+1)\n",
    "z = np.random.rand(M, N).astype(np.float64)\n",
    "fig = plt.figure()\n",
    "ax = fig.add_subplot(111)\n",
    "im = ax.imshow(z, origin=\"lower\", extent=[x[0], x[-1], y[0], y[-1]],\n",
    "               aspect=\"auto\", cmap=\"viridis\")\n",
    "cb = plt.colorbar(im)\n",
    "cb.ax.set_ylabel(\"Counts\")\n",
    "ax.set_xlabel(\"x coordinate\")\n",
    "ax.set_ylabel(\"y coordinate\")\n",
    "ax.set_title(\"A 2D image\")"
   ]
  },
  {
   "cell_type": "markdown",
   "metadata": {},
   "source": [
    "### 2D filled contour plot"
   ]
  },
  {
   "cell_type": "code",
   "execution_count": null,
   "metadata": {},
   "outputs": [],
   "source": [
    "N = 100\n",
    "M = 50\n",
    "xx = np.arange(N, dtype=np.float64)\n",
    "yy = np.arange(M, dtype=np.float64)\n",
    "x, y = np.meshgrid(xx, yy)\n",
    "b = N/20.0\n",
    "c = M/2.0\n",
    "r = np.sqrt(((x-c)/b)**2 + ((y-c)/b)**2)\n",
    "z = np.sin(r)\n",
    "fig = plt.figure()\n",
    "ax = fig.add_subplot(111)\n",
    "contf = plt.contourf(x, y, z, cmap=\"viridis\")\n",
    "cb = plt.colorbar(contf)\n",
    "cb.ax.set_ylabel(\"Counts\")\n",
    "ax.set_xlabel(\"x coordinate\")\n",
    "ax.set_ylabel(\"y coordinate\")\n",
    "ax.set_title(\"2D contours\")"
   ]
  },
  {
   "cell_type": "markdown",
   "metadata": {},
   "source": [
    "### 2D image/heatmap with non-uniformly sized pixels"
   ]
  },
  {
   "cell_type": "code",
   "execution_count": null,
   "metadata": {},
   "outputs": [],
   "source": [
    "N = 10\n",
    "M = 5\n",
    "x = np.arange(N+1)**2\n",
    "y = np.arange(M+1)\n",
    "z = np.random.rand(M, N).astype(np.float64)\n",
    "fig = plt.figure()\n",
    "ax = fig.add_subplot(111)\n",
    "pcmesh = ax.pcolormesh(x, y, z, cmap=\"viridis\")\n",
    "cb = plt.colorbar(pcmesh)\n",
    "cb.ax.set_ylabel(\"Counts\")\n",
    "ax.set_xlabel(\"x coordinate\")\n",
    "ax.set_ylabel(\"y coordinate\")\n",
    "ax.set_title(\"A 2D image with non-equal sized pixels\")"
   ]
  },
  {
   "cell_type": "markdown",
   "metadata": {},
   "source": [
    "### 2D scatter plot with different symbol sizes"
   ]
  },
  {
   "cell_type": "code",
   "execution_count": null,
   "metadata": {},
   "outputs": [],
   "source": [
    "N = 100\n",
    "x = np.random.rand(N).astype(np.float64)\n",
    "y = np.random.rand(N).astype(np.float64)\n",
    "z = np.random.rand(N).astype(np.float64)\n",
    "s = 300.0*np.random.rand(N).astype(np.float64)\n",
    "fig = plt.figure()\n",
    "ax = fig.add_subplot(111)\n",
    "scat = ax.scatter(x, y, c=z, cmap=\"jet\", s=s)\n",
    "cb = plt.colorbar(scat)\n",
    "cb.ax.set_ylabel(\"Counts\")\n",
    "ax.set_xlabel(\"x coordinate\")\n",
    "ax.set_ylabel(\"y coordinate\")\n",
    "ax.set_title(\"A 2D scatter plot\")"
   ]
  },
  {
   "cell_type": "markdown",
   "metadata": {},
   "source": [
    "## 3. Widgets and interactive plots\n",
    "\n",
    "### 2D heatmap with slider through 3D data cube"
   ]
  },
  {
   "cell_type": "code",
   "execution_count": null,
   "metadata": {},
   "outputs": [],
   "source": [
    "from matplotlib.widgets import Slider\n",
    " \n",
    "data = np.random.rand(10, 10, 10)\n",
    "idx = 0\n",
    "\n",
    "fig = plt.figure()\n",
    "ax = fig.add_subplot(111)\n",
    "fig.subplots_adjust(bottom=0.15)\n",
    "\n",
    "im_h = ax.imshow(data[:, :, idx], interpolation='nearest')\n",
    "\n",
    "ax.set_xlabel(\"x coordinate\")\n",
    "ax.set_ylabel(\"y coordinate\")\n",
    "ax.set_title(\"2D heatmap with slider\")\n",
    "cb = plt.colorbar(im_h)\n",
    "cb.ax.set_ylabel(\"Counts\")\n",
    "\n",
    "ax_depth = plt.axes([0.23, 0.02, 0.56, 0.04])\n",
    "slider_depth = Slider(ax_depth,\n",
    "    'depth',\n",
    "    0,\n",
    "    data.shape[2]-1,\n",
    "    valinit=idx)\n",
    "\n",
    "def update_depth(val):\n",
    "    idx = int(round(slider_depth.val))\n",
    "    im_h.set_data(data[:, :, idx])\n",
    "  \n",
    "slider_depth.on_changed(update_depth)\n",
    "  \n",
    "plt.show()"
   ]
  },
  {
   "cell_type": "markdown",
   "metadata": {},
   "source": [
    "### Scrolling with the mouse through a 3D data cube"
   ]
  },
  {
   "cell_type": "code",
   "execution_count": null,
   "metadata": {},
   "outputs": [],
   "source": [
    "class IndexTracker(object):\n",
    "    def __init__(self, ax, X):\n",
    "        self.ax = ax\n",
    "        ax.set_title('use scroll wheel to navigate images')\n",
    "\n",
    "        self.X = X\n",
    "        rows, cols, self.slices = X.shape\n",
    "        self.ind = self.slices//2\n",
    "\n",
    "        self.im = ax.imshow(self.X[:, :, self.ind])\n",
    "        self.update()\n",
    "\n",
    "    def onscroll(self, event):\n",
    "        print(\"%s %s\" % (event.button, event.step))\n",
    "        if event.button == 'up':\n",
    "            self.ind = np.clip(self.ind + 1, 0, self.slices - 1)\n",
    "        else:\n",
    "            self.ind = np.clip(self.ind - 1, 0, self.slices - 1)\n",
    "        self.update()\n",
    "\n",
    "    def update(self):\n",
    "        self.im.set_data(self.X[:, :, self.ind])\n",
    "        ax.set_ylabel('slice %s' % self.ind)\n",
    "        self.im.axes.figure.canvas.draw()\n",
    "\n",
    "\n",
    "fig, ax = plt.subplots(1, 1)\n",
    "\n",
    "X = np.random.rand(20, 20, 40)\n",
    "\n",
    "tracker = IndexTracker(ax, X)\n",
    "\n",
    "\n",
    "fig.canvas.mpl_connect('scroll_event', tracker.onscroll)\n",
    "plt.show()"
   ]
  },
  {
   "cell_type": "markdown",
   "metadata": {},
   "source": [
    "### Widget demo"
   ]
  },
  {
   "cell_type": "code",
   "execution_count": null,
   "metadata": {},
   "outputs": [],
   "source": [
    "from matplotlib.widgets import Slider, Button, RadioButtons\n",
    "\n",
    "fig, ax = plt.subplots()\n",
    "plt.subplots_adjust(left=0.25, bottom=0.25)\n",
    "t = np.arange(0.0, 1.0, 0.001)\n",
    "a0 = 5\n",
    "f0 = 3\n",
    "delta_f = 5.0\n",
    "s = a0 * np.sin(2 * np.pi * f0 * t)\n",
    "l, = plt.plot(t, s, lw=2)\n",
    "ax.margins(x=0)\n",
    "\n",
    "axcolor = 'lightgoldenrodyellow'\n",
    "axfreq = plt.axes([0.25, 0.1, 0.65, 0.03], facecolor=axcolor)\n",
    "axamp = plt.axes([0.25, 0.15, 0.65, 0.03], facecolor=axcolor)\n",
    "\n",
    "sfreq = Slider(axfreq, 'Freq', 0.1, 30.0, valinit=f0, valstep=delta_f)\n",
    "samp = Slider(axamp, 'Amp', 0.1, 10.0, valinit=a0)\n",
    "\n",
    "\n",
    "def update(val):\n",
    "    amp = samp.val\n",
    "    freq = sfreq.val\n",
    "    l.set_ydata(amp*np.sin(2*np.pi*freq*t))\n",
    "    fig.canvas.draw_idle()\n",
    "\n",
    "\n",
    "sfreq.on_changed(update)\n",
    "samp.on_changed(update)\n",
    "\n",
    "resetax = plt.axes([0.8, 0.025, 0.1, 0.04])\n",
    "button = Button(resetax, 'Reset', color=axcolor, hovercolor='0.975')\n",
    "\n",
    "\n",
    "def reset(event):\n",
    "    sfreq.reset()\n",
    "    samp.reset()\n",
    "button.on_clicked(reset)\n",
    "\n",
    "rax = plt.axes([0.025, 0.5, 0.15, 0.15], facecolor=axcolor)\n",
    "radio = RadioButtons(rax, ('red', 'blue', 'green'), active=0)\n",
    "\n",
    "\n",
    "def colorfunc(label):\n",
    "    l.set_color(label)\n",
    "    fig.canvas.draw_idle()\n",
    "radio.on_clicked(colorfunc)\n",
    "\n",
    "plt.show()"
   ]
  },
  {
   "cell_type": "markdown",
   "metadata": {},
   "source": [
    "## 4. 3D plots (this is possible but not recommended!)"
   ]
  },
  {
   "cell_type": "code",
   "execution_count": null,
   "metadata": {},
   "outputs": [],
   "source": [
    "from mpl_toolkits.mplot3d import Axes3D"
   ]
  },
  {
   "cell_type": "markdown",
   "metadata": {},
   "source": [
    "### 3D line plot"
   ]
  },
  {
   "cell_type": "code",
   "execution_count": null,
   "metadata": {},
   "outputs": [],
   "source": [
    "N = 100\n",
    "M = 10\n",
    "xx = np.arange(N, dtype=np.float64)\n",
    "yy = np.arange(M, dtype=np.float64)\n",
    "x, y = np.meshgrid(xx, yy)\n",
    "b = M/2.0\n",
    "c = N/2.0\n",
    "r = np.sqrt(((x-c)/b)**2 + ((y-c)/b)**2)\n",
    "z = np.sin(r)\n",
    "\n",
    "fig = plt.figure()\n",
    "ax = fig.add_subplot(111, projection='3d')\n",
    "\n",
    "for i in range(M):\n",
    "    ax.plot(xx, [i]*N, z[i, :])\n",
    "\n",
    "ax.set_xlabel('X')\n",
    "ax.set_ylabel('Y')\n",
    "ax.set_zlabel('Z')"
   ]
  },
  {
   "cell_type": "markdown",
   "metadata": {},
   "source": [
    "### 3D scatter plot"
   ]
  },
  {
   "cell_type": "code",
   "execution_count": null,
   "metadata": {},
   "outputs": [],
   "source": [
    "N = 100\n",
    "x = np.random.rand(N).astype(np.float64)\n",
    "y = np.random.rand(N).astype(np.float64)\n",
    "z = np.random.rand(N).astype(np.float64)\n",
    "s = 300.0*np.random.rand(N).astype(np.float64)\n",
    "c = np.abs(z)\n",
    "fig = plt.figure()\n",
    "ax = fig.add_subplot(111, projection='3d')\n",
    "plot = ax.scatter(x, y, z, s=s, c=c, cmap=\"jet\")\n",
    "  \n",
    "ax.set_xlabel(\"x coordinate\")\n",
    "ax.set_ylabel(\"y coordinate\")\n",
    "ax.set_zlabel(\"z coordinate\")\n",
    "ax.set_title(\"A 3D scatter plot\")\n",
    "  \n",
    "cb = plt.colorbar(plot)\n",
    "cb.ax.set_ylabel(\"Counts\")"
   ]
  },
  {
   "cell_type": "markdown",
   "metadata": {},
   "source": [
    "### 3d surface"
   ]
  },
  {
   "cell_type": "code",
   "execution_count": null,
   "metadata": {},
   "outputs": [],
   "source": [
    "fig = plt.figure()\n",
    "ax = fig.add_subplot(111, projection='3d')\n",
    "\n",
    "X = np.arange(-5, 5, 0.25)\n",
    "Y = np.arange(-5, 5, 0.25)\n",
    "X, Y = np.meshgrid(X, Y)\n",
    "R = np.sqrt(X**2 + Y**2)\n",
    "Z = np.sin(R)\n",
    "\n",
    "surf = ax.plot_surface(X, Y, Z, linewidth=0, antialiased=False, cmap='viridis')\n",
    "\n",
    "fig.colorbar(surf, shrink=0.5, aspect=5)"
   ]
  },
  {
   "cell_type": "code",
   "execution_count": null,
   "metadata": {},
   "outputs": [],
   "source": []
  }
 ],
 "metadata": {
  "kernelspec": {
   "display_name": "Python 3",
   "language": "python",
   "name": "python3"
  },
  "language_info": {
   "codemirror_mode": {
    "name": "ipython",
    "version": 3
   },
   "file_extension": ".py",
   "mimetype": "text/x-python",
   "name": "python",
   "nbconvert_exporter": "python",
   "pygments_lexer": "ipython3",
   "version": "3.7.4"
  }
 },
 "nbformat": 4,
 "nbformat_minor": 2
}
