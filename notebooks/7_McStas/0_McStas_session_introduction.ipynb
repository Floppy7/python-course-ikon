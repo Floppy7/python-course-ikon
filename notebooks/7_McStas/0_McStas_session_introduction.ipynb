{
 "cells": [
  {
   "cell_type": "markdown",
   "metadata": {},
   "source": [
    "# McStasScript IKON tutorial\n",
    "Welcome to the McStasScript tutorial at IKON! This session is an introduction to the McStas python API called McStasScript which is an open source software project done through PaNOSC Work package 5 on simulations. More information can be found on the github page of the project https://github.com/PaNOSC-ViNYL/McStasScript.\n",
    "\n",
    "## Todays program\n",
    "Regardless of the level of prior experience with McStas, it is recommended to start with the basic notebook called *McStasScript_tutorial_1_the_basics*, this will introduce the basic McStas and McStasScript features. Afterwards there are three different paths to follow depending on preference and prior experience with McStas.\n",
    "\n",
    "1. **Continue with exercises** <br>\n",
    "The exercises only require the tools taught in the basic notebook, so it is possible to continue in this direction even without McStas experience. Only notebooks with exercise in the name contains exercises, the tutorial is sightseeing.\n",
    "\n",
    "2. **Continue the tutorial** <br>\n",
    "The McStasScript tutorial continues with more advanced McStas features and shows how they can be used. This mainly concerns the keywords SPLIT, WHEN, EXTEND and JUMP.\n",
    "\n",
    "3. **Skip to the Union tutorial** <br>\n",
    "For the experienced McStas user it is an option to go directly to the Union part of the tutorial, this will introduce the Union components that provides modular physics, complex geometry and full multiple scattering to McStas sample simulation.\n",
    "\n",
    "Regardless of which path you choose, the instructors will be here to help you in case you have questions or get stuck."
   ]
  },
  {
   "cell_type": "code",
   "execution_count": null,
   "metadata": {},
   "outputs": [],
   "source": []
  }
 ],
 "metadata": {
  "kernelspec": {
   "display_name": "Python 3",
   "language": "python",
   "name": "python3"
  },
  "language_info": {
   "codemirror_mode": {
    "name": "ipython",
    "version": 3
   },
   "file_extension": ".py",
   "mimetype": "text/x-python",
   "name": "python",
   "nbconvert_exporter": "python",
   "pygments_lexer": "ipython3",
   "version": "3.7.1"
  }
 },
 "nbformat": 4,
 "nbformat_minor": 2
}
