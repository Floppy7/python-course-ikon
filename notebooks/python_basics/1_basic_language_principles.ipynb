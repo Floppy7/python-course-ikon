{
 "cells": [
  {
   "cell_type": "markdown",
   "metadata": {},
   "source": [
    "# Basic language principles"
   ]
  },
  {
   "cell_type": "markdown",
   "metadata": {},
   "source": [
    "Before we dive into the details let's get hands dirty!"
   ]
  },
  {
   "cell_type": "markdown",
   "metadata": {},
   "source": [
    "**Exercise (1)** <br>\n",
    "Read the code bellow (don't worry about 2 first lines). Do you know what does the code do?"
   ]
  },
  {
   "cell_type": "code",
   "execution_count": 3,
   "metadata": {},
   "outputs": [
    {
     "data": {
      "image/png": "[encoded data removed]",
      "text/plain": [
       "<Figure size 432x288 with 1 Axes>"
      ]
     },
     "metadata": {
      "needs_background": "light"
     },
     "output_type": "display_data"
    }
   ],
   "source": [
    "import matplotlib.pyplot as plt\n",
    "import numpy as np\n",
    "\n",
    "t = [0, 1, 2, 3, 4, 5]\n",
    "s = [0, 1, 4, 9, 16, 25]\n",
    "\n",
    "plt.plot(t, s, 'o')\n",
    "plt.show()"
   ]
  },
  {
   "cell_type": "markdown",
   "metadata": {},
   "source": [
    "**Exercise (2)** <br>\n",
    "Now execute the code (`Shift+Enter`). Does it do what you expected?. Now play little bit with the plot properties. *e.g.* changing style, color etc.  First of all try to remove `'o'` from the `plot` function and see what happens.  And then try adding `'r-'` in the same place where we had `'o'` before. `plot` function has many options and they can be accessed by pressing `Shift+tab+tab` when cursor is pointing on function (between parentheses) or simply checking [on-line help](https://matplotlib.org/2.1.1/api/_as_gen/matplotlib.pyplot.plot.html). You can try out following properties `color='green', linestyle='dashed', marker='o', markerfacecolor='blue', markersize=12` "
   ]
  },
  {
   "cell_type": "markdown",
   "metadata": {
    "slideshow": {
     "slide_type": "-"
    }
   },
   "source": [
    "## Python principles\n",
    "* Python is an interpreted language meaning there is no explicit compilation step (same as Matlab or Mathematica for example)\n",
    "* The basic types build into Python include:\n",
    "    * `int` variable length integers, (e.g. x = -1234567890)\n",
    "    * `float` double precision floating point numbers, (e.g. x = 2.0)\n",
    "    * `complex` composed of two floats for *real* and *imag* part,  (e.g. x = complex(1,5))\n",
    "    * `str` unicode character strings, (e.g. x = 'This is a string')\n",
    "    * `bool` boolean which can be only True or False (e.g. x = True)\n",
    "    \n",
    "* The operations are supported as long as it makes sense for that type, e.g. there is no string division but `+` just means join the two strings together.\n",
    "\n",
    "| Symbol | Task Performed |\n",
    "|----|---|\n",
    "| +  | Addition |\n",
    "| -  | Subtraction |\n",
    "| *  | Multiplication |\n",
    "| /  | Floating point division |\n",
    "| // | Floor division |\n",
    "| %  | Modulus or rest |\n",
    "| ** or pow(a, b) | Power |\n",
    "| abs(a) | absolute value |\n",
    "| round(a) | Banker's rounding |\n",
    "\n",
    "* Python also accepts relational operators (note the difference, `==` means equality test and `=` is an assignment)\n",
    " \n",
    "| Symbol | Task Performed |\n",
    "|---|---|\n",
    "| == | True, if it is equal |\n",
    "| != | True, if not equal to |\n",
    "| < | less than |\n",
    "| > | greater than |\n",
    "| <= | less than or equal to |\n",
    "| >= | greater than or equal to |\n",
    "|&nbsp;|\n",
    "| not | negate a `bool` value |\n",
    "| is | True, if both are the same |\n",
    "| and | True if both are True |\n",
    "| or | True if any are are True |\n",
    "| ^ | True if one or the other but not both are True |\n",
    "|&nbsp;|\n",
    "| ^ | bitwise xor operator in `int` |\n",
    "| &  | bitwise and operator in `int` |\n",
    "| \\| | bitwise or  operator in `int` |\n",
    "| >> | right shift bitwise operation on `int`|\n",
    "| << | left shift bitwise operation on `int` |\n",
    "| | |\n",
    "\n",
    "* Variable assignment is simpler than in other languages as you do not have to declare the type and moreover it can be changed during execution, e.g.\n",
    "\n",
    "```python\n",
    "#Here x is initialized to 5 and Python then treats this as an integer\n",
    "x = 5\n",
    "#It can be incremented and have all of the expected operations applied to it\n",
    "x += 1\n",
    "#Later on it can be used for something else e.g. string\n",
    "x = \"a string\"  \n",
    "```\n",
    "\n",
    "* Comments are signified by the `#` symbol."
   ]
  },
  {
   "cell_type": "markdown",
   "metadata": {},
   "source": [
    "**Exercise (3)** <br>\n",
    "Using variable assigment code above first initialiaze variable to `2` and then increment it by 2. Then assign x to a string `my string`."
   ]
  },
  {
   "cell_type": "code",
   "execution_count": null,
   "metadata": {},
   "outputs": [],
   "source": [
    "# -- YOUR CODE HERE --\n",
    "# --------------------\n"
   ]
  },
  {
   "cell_type": "markdown",
   "metadata": {},
   "source": [
    "**Exercise (4)** <br>\n",
    "What happens if you now add 5 to x? "
   ]
  },
  {
   "cell_type": "markdown",
   "metadata": {},
   "source": [
    "You are most likely seeing the error similar to one bellow:\n",
    "```python\n",
    "---------------------------------------------------------------------------\n",
    "TypeError                                 Traceback (most recent call last)\n",
    "<ipython-input-6-0550634c50dd> in <module>\n",
    "      2 x += 2\n",
    "      3 x = \"my string\"\n",
    "----> 4 x + 5\n",
    "      5 x\n",
    "\n",
    "TypeError: can only concatenate str (not \"int\") to str\n",
    "\n",
    "```\n",
    "This basically means that you cannot add integer value to a string. Do you understand why this has happened?"
   ]
  },
  {
   "cell_type": "markdown",
   "metadata": {
    "slideshow": {
     "slide_type": "notes"
    }
   },
   "source": [
    "Solution"
   ]
  },
  {
   "cell_type": "code",
   "execution_count": 6,
   "metadata": {},
   "outputs": [
    {
     "ename": "TypeError",
     "evalue": "can only concatenate str (not \"int\") to str",
     "output_type": "error",
     "traceback": [
      "\u001b[0;31m---------------------------------------------------------------------------\u001b[0m",
      "\u001b[0;31mTypeError\u001b[0m                                 Traceback (most recent call last)",
      "\u001b[0;32m<ipython-input-6-0550634c50dd>\u001b[0m in \u001b[0;36m<module>\u001b[0;34m\u001b[0m\n\u001b[1;32m      2\u001b[0m \u001b[0mx\u001b[0m \u001b[0;34m+=\u001b[0m \u001b[0;36m2\u001b[0m\u001b[0;34m\u001b[0m\u001b[0;34m\u001b[0m\u001b[0m\n\u001b[1;32m      3\u001b[0m \u001b[0mx\u001b[0m \u001b[0;34m=\u001b[0m \u001b[0;34m\"my string\"\u001b[0m\u001b[0;34m\u001b[0m\u001b[0;34m\u001b[0m\u001b[0m\n\u001b[0;32m----> 4\u001b[0;31m \u001b[0mx\u001b[0m \u001b[0;34m+\u001b[0m \u001b[0;36m5\u001b[0m\u001b[0;34m\u001b[0m\u001b[0;34m\u001b[0m\u001b[0m\n\u001b[0m\u001b[1;32m      5\u001b[0m \u001b[0mx\u001b[0m\u001b[0;34m\u001b[0m\u001b[0;34m\u001b[0m\u001b[0m\n",
      "\u001b[0;31mTypeError\u001b[0m: can only concatenate str (not \"int\") to str"
     ]
    }
   ],
   "source": [
    "x = 2\n",
    "x += 2\n",
    "x = \"my string\"\n",
    "x + 5\n",
    "x"
   ]
  },
  {
   "cell_type": "code",
   "execution_count": null,
   "metadata": {},
   "outputs": [],
   "source": []
  }
 ],
 "metadata": {
  "kernelspec": {
   "display_name": "Python 3",
   "language": "python",
   "name": "python3"
  },
  "language_info": {
   "codemirror_mode": {
    "name": "ipython",
    "version": 3
   },
   "file_extension": ".py",
   "mimetype": "text/x-python",
   "name": "python",
   "nbconvert_exporter": "python",
   "pygments_lexer": "ipython3",
   "version": "3.7.3"
  },
  "varInspector": {
   "cols": {
    "lenName": 16,
    "lenType": 16,
    "lenVar": 40
   },
   "kernels_config": {
    "python": {
     "delete_cmd_postfix": "",
     "delete_cmd_prefix": "del ",
     "library": "var_list.py",
     "varRefreshCmd": "print(var_dic_list())"
    },
    "r": {
     "delete_cmd_postfix": ") ",
     "delete_cmd_prefix": "rm(",
     "library": "var_list.r",
     "varRefreshCmd": "cat(var_dic_list()) "
    }
   },
   "types_to_exclude": [
    "module",
    "function",
    "builtin_function_or_method",
    "instance",
    "_Feature"
   ],
   "window_display": false
  }
 },
 "nbformat": 4,
 "nbformat_minor": 2
}
