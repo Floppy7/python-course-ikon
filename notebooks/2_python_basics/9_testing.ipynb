{
 "cells": [
  {
   "cell_type": "markdown",
   "id": "challenging-speaking",
   "metadata": {},
   "source": [
    "# Testing\n",
    "\n",
    "We begin with a simple example. We want to implement a function which computes the allowed magnetic quantum numbers $m$ for any given angular momentum $j$. Remember that $m = -j, -j+1, \\ldots , j-1, j$. This function is implemented below.\n",
    "\n",
    "<div class=\"alert alert-block alert-warning\">\n",
    "    <b>HINT</b>\n",
    "    <br> Most examples in this notebook contain an implementation of the function that we want to test. We will always have a set of requirements for each function and out tests are meant to ensure that those requirements are met. Reading the actual implementations might bias our tests.\n",
    "</div>\n",
    "\n",
    "<div class=\"alert alert-block alert-success\">\n",
    "    <b>NOTE</b>\n",
    "    <br>The code samples are not always written in a clean way but are sometimes overly convoluted or complicated in order to garnish them with hidden bugs. If you are looking for advice on how to write good Python, search elsewhere!\n",
    "</div>"
   ]
  },
  {
   "cell_type": "code",
   "execution_count": null,
   "id": "beneficial-german",
   "metadata": {},
   "outputs": [],
   "source": [
    "import numpy as np"
   ]
  },
  {
   "cell_type": "code",
   "execution_count": null,
   "id": "genetic-brook",
   "metadata": {},
   "outputs": [],
   "source": [
    "def magnetic_quantum_numbers(j):\n",
    "    \"\"\"\n",
    "    Returns a list of all magnetic quantum number for a given angular momentum j.\n",
    "    The results are sorted in ascending order.\n",
    "    \"\"\"\n",
    "    if j < 0:\n",
    "        raise ValueError('j must be greater equal 0')\n",
    "    negative = np.arange(-j, 0)\n",
    "    positive = -negative[::-1]\n",
    "    return list(np.concatenate((negative, [0], positive)))"
   ]
  },
  {
   "cell_type": "markdown",
   "id": "extreme-preference",
   "metadata": {},
   "source": [
    "In order to test tis function, we can compare the output to what we would expect. For example:\n",
    "- $j = 0 \\rightarrow m = 0$\n",
    "- $j = 1 \\rightarrow m = 0, \\pm1$\n",
    "\n",
    "According to its docstring, `magnetic_quantum_numbers` promises to return a list of numbers sorted in ascending order. This implies that for $j=0,1$, we expect to get `[0]` and `[-1, 0, 1]`.\n",
    "\n",
    "We can encode tests for these by using assertions. The `assert` keyword in Python takes a condition and if that condition is false, raises an `AssertionError`."
   ]
  },
  {
   "cell_type": "code",
   "execution_count": null,
   "id": "annual-worthy",
   "metadata": {},
   "outputs": [],
   "source": [
    "assert magnetic_quantum_numbers(0) == [0]\n",
    "assert magnetic_quantum_numbers(1) == [-1, 0, 1]"
   ]
  },
  {
   "cell_type": "markdown",
   "id": "rough-communication",
   "metadata": {},
   "source": [
    "No output was produced which means that both assertions passed. Our tests were successful! If this is too boring for you, feel free to add a print statement at the end of a cell to notify you that the tests passed, see below.\n",
    "\n",
    "Those tests are great and all, but only two tests are hardly enough. In particular, we have only used integer values for $j$. Let's try a half integer now:"
   ]
  },
  {
   "cell_type": "code",
   "execution_count": null,
   "id": "straight-quantum",
   "metadata": {},
   "outputs": [],
   "source": [
    "assert magnetic_quantum_numbers(0.5) == [-0.5, 0.5]\n",
    "print(\"Success!\")"
   ]
  },
  {
   "cell_type": "markdown",
   "id": "received-parameter",
   "metadata": {},
   "source": [
    "This is not so great anymore. What you are seing above is one of the aforementioned `AssertionErrors`. Unfortunately, it does not provide any useful information other than letting us know that the test failed. We will later see ways for getting better outputs for failed tests. For now, just look at the result of our function manually:"
   ]
  },
  {
   "cell_type": "code",
   "execution_count": null,
   "id": "handy-choice",
   "metadata": {},
   "outputs": [],
   "source": [
    "magnetic_quantum_numbers(0.5)"
   ]
  },
  {
   "cell_type": "markdown",
   "id": "differential-happiness",
   "metadata": {},
   "source": [
    "There is an extra 0 in the list. This was fine for integer $j$ but it should not be there for half integers.\n",
    "We will fix `magnetic_quantum_numbers` later, but for now we leave it as it is.\n",
    "\n",
    "### Error Modes\n",
    "\n",
    "Until now, we have only looked at the 'happy path' of our function, meaning that all inputs are valid and the computation works, albeit sometimes incorrectly. But it is equally important to test the error paths. This is to ensure that errors such as invalid inputs or failure of intermediate operations are detected and handled properly. When that is not the case, the results of a function can be incorrect without anyone noticing.\n",
    "\n",
    "***\n",
    "#### Aside: Exceptions\n",
    "In Python, errors are almost always reported in the form of exceptions. You do not need to understand exactly how the work now. In order to signal ('raise') an error, we can simply write\n",
    "```python\n",
    "raise RuntimeError(\"message\")\n",
    "```\n",
    "We can pass any message we want to describe the error. There are multiple predefined error types in Python. `RuntimeError` is a general error that we can use in most situations. When a function argument is invalid, one usually raises a `ValueError`.\n",
    "***\n",
    "\n",
    "`magnetic_quantum_numbers` has two conditions on its input:\n",
    "- $j \\geq 0$\n",
    "- $j$ is an integer or half integer\n",
    "\n",
    "We thus expect our function to raise a `ValueError` if either condition is violated.\n",
    "In order to test for that we use the external package __[pytest](https://docs.pytest.org/en/stable/index.html)__ which provides many utilities for writing tests. Here, we need the contexr manager `pytest.raises`. Again, there is no need to understand what a context manager is. For our purposes, simply read\n",
    "```python\n",
    "with pytest.raises(ValueError):\n",
    "```\n",
    "as 'check that the indented code below it raises a `ValueError`'."
   ]
  },
  {
   "cell_type": "code",
   "execution_count": null,
   "id": "multiple-gospel",
   "metadata": {},
   "outputs": [],
   "source": [
    "import pytest\n",
    "with pytest.raises(ValueError):\n",
    "    magnetic_quantum_numbers(-1)\n",
    "with pytest.raises(ValueError):\n",
    "    magnetic_quantum_numbers(0.2)"
   ]
  },
  {
   "cell_type": "markdown",
   "id": "legislative-eagle",
   "metadata": {},
   "source": [
    "Another failure! But look at the error message. Only the second test failed by not raising a `ValueError`. The first one succeded. Looking at the implementation of `magnetic_quantum_numbers` above shows that there is indeed a check $j < 0$ but none for the integer condition.\n",
    "\n",
    "It is important to perform these kinds of tests or error modes. We cannot write a sensible test for the expected output of `magnetic_quantum_numbers(0.2)` because that is simply invalid. If this is not detected, however, a user might call it with an invalid argument and get garbage results without knowing it!\n",
    "\n",
    "Below you can find a complete implementation which passes all of our tests. Feel free to try it out and write more tests."
   ]
  },
  {
   "cell_type": "code",
   "execution_count": null,
   "id": "minus-default",
   "metadata": {},
   "outputs": [],
   "source": [
    "def magnetic_quantum_numbers(j):\n",
    "    if j < 0:\n",
    "        raise ValueError('j must be greater equal 0')\n",
    "    if (2 * j) != int(2 * j):\n",
    "        raise ValueError('j must be an integer or half integer')\n",
    "    return list(np.arange(-j, j+1, 1))"
   ]
  },
  {
   "cell_type": "markdown",
   "id": "false-billy",
   "metadata": {},
   "source": [
    "### Zeeman Splitting\n",
    "\n",
    "We can now use our function to compute physical observables. As an example, we are going to look at the Zeeman effect. Lt's start by reminding ourselves of the formula. The coupling of the spin of an electron to an external magentic field $B$ shifts the energy level of that electron by\n",
    "$$\n",
    "\\Delta E = \\mu_B B g_j m_j ,\n",
    "$$\n",
    "where $\\mu_B$ is the Bohr Magneton, $g_j$ the Landé factor, and $m_j$ the magnetic quantum number that we computed above. For simplicity, we only look at energy shifts relative to the magnetic field and omit $B$ in the following.\n",
    "\n",
    "First, we define a function which computes all energy shifts for a given set of angular momenta:"
   ]
  },
  {
   "cell_type": "code",
   "execution_count": null,
   "id": "saving-history",
   "metadata": {},
   "outputs": [],
   "source": [
    "def zeeman_shifts(j, l, s):\n",
    "    lande = 1 + (j*(j+1) - l*(l+1) + s*(s+1)) / (2*j*(j+1))\n",
    "    magneton = physical_constants['Bohr magneton in eV/T'][0]\n",
    "    magn = magnetic_quantum_numbers(j)\n",
    "    return [magneton * m * lande for m in magn]"
   ]
  },
  {
   "cell_type": "markdown",
   "id": "sexual-central",
   "metadata": {},
   "source": [
    "We are now faced with a difficult problem. We have an piece of Python code which implements a mathematical equation. But how can we test whether those two match?\n",
    "Before, we had a simple rule for what the output should be. This let us write some tests to compare the actual to the expected output. However, now it seems as though we need the output of our function in order to know what result it should produce in the first place.\n",
    "\n",
    "Luckily though, people have performed many calculations based on the Zeeman effect already. So we can pick one or more of those results and compare out implementation with them.\n",
    "\n",
    "Let us choose the Lyman-α line, meaning the transition of an electron from an $n = 2$ orbital to $n=1$ in hydrogen. The impact of the Zeeman effect on this transition depends on the angular momentum, of course.\n",
    "For a transition from $|n, l, j, m_j\\rangle = |2, 1, \\frac{1}{2}, +\\frac{1}{2}\\rangle$ to $|1, 0, \\frac{1}{2}, +\\frac{1}{2}\\rangle$, the Zeeman effect induced energy difference is $- \\frac{2}{3} \\mu_B$. So let's use that as a test: (We have electrons, so $s = \\frac{1}{2}$ is fixed.)"
   ]
  },
  {
   "cell_type": "code",
   "execution_count": null,
   "id": "objective-construction",
   "metadata": {},
   "outputs": [],
   "source": [
    "from scipy.constants import physical_constants\n",
    "# The `[0]` in physical_constants['name'][0] extracts the actual value.\n",
    "bohr_magneton = physical_constants['Bohr magneton in eV/T'][0]\n",
    "before = zeeman_shifts(1/2, 1, 1/2)\n",
    "after = zeeman_shifts(1/2, 0, 1/2)\n",
    "assert before[1]-after[1] == -2 / 3 * bohr_magneton"
   ]
  },
  {
   "cell_type": "markdown",
   "id": "comic-count",
   "metadata": {},
   "source": [
    "The test passes! Note that we are using `before[1]` and `after[1]`, which extract the $m_j = +\\frac{1}{2}$ elements according to"
   ]
  },
  {
   "cell_type": "code",
   "execution_count": null,
   "id": "hungarian-wagon",
   "metadata": {},
   "outputs": [],
   "source": [
    "magnetic_quantum_numbers(1/2)"
   ]
  },
  {
   "cell_type": "markdown",
   "id": "breathing-algeria",
   "metadata": {},
   "source": [
    "As a nice bonus, we are loading the Bohr magneton from SciPy with a specific unit. This lets us check if our function uses the units we expect.\n",
    "\n",
    "There are a lot more transitions we can use. For instance, $|2, 1, \\frac{3}{2}, +\\frac{1}{2}\\rangle$ to $|1, 0, \\frac{1}{2}, -\\frac{1}{2}\\rangle$ has an energy of $\\frac{5}{3} \\mu_B$:"
   ]
  },
  {
   "cell_type": "code",
   "execution_count": null,
   "id": "peripheral-contents",
   "metadata": {},
   "outputs": [],
   "source": [
    "before = zeeman_shifts(3/2, 1, 1/2)\n",
    "after = zeeman_shifts(1/2, 0, 1/2)\n",
    "assert before[2]-after[0] == 5/3*bohr_magneton"
   ]
  },
  {
   "cell_type": "markdown",
   "id": "adjacent-harvest",
   "metadata": {},
   "source": [
    "What happened this time? Again, the failure message does not give us a lot of information. So let's output the results ourselves:"
   ]
  },
  {
   "cell_type": "code",
   "execution_count": null,
   "id": "dirty-certificate",
   "metadata": {},
   "outputs": [],
   "source": [
    "print(before[2]-after[0])\n",
    "print(5/3*bohr_magneton)"
   ]
  },
  {
   "cell_type": "markdown",
   "id": "noticed-surveillance",
   "metadata": {},
   "source": [
    "Pretty close but not an exact match! The problem here is that we are performing calculations with floating point numbers. Those have limited precision and we cannot expect two equivalent calculations to produce exactly the same results unless they do  _exactly_ the same operations in _exactly_ the same order.\n",
    "\n",
    "This means that we should not use the equality operator (`==`) as above but rather test for approximate equality. A useful tool for this is the 'testing' module of numpy (__https://numpy.org/doc/stable/reference/routines.testing.html__). It provides __[assert_almost_equal](https://numpy.org/doc/stable/reference/generated/numpy.testing.assert_almost_equal.html#numpy.testing.assert_almost_equal)__ which does what we need."
   ]
  },
  {
   "cell_type": "code",
   "execution_count": null,
   "id": "realistic-things",
   "metadata": {},
   "outputs": [],
   "source": [
    "np.testing.assert_almost_equal(before[2]-after[0], 5/3*bohr_magneton)"
   ]
  },
  {
   "cell_type": "markdown",
   "id": "authorized-murray",
   "metadata": {},
   "source": [
    "Now there is no output meaning that the test passes.\n",
    "\n",
    "We could keep going and add more tests and you should do this in practice. But these kinds of tests are often only of limited use because we generally do not have known outputs that we can easily compare to.\n",
    "\n",
    "A different approach (potentially supplementing the above) is searching for simple cases where we know the correct result. One such case would be a particle without spin. Here, the interaction with the magnetic field depends only on the orbital angular momentum and should thus give an energy shift of $m_j \\mu_B$. And indeed, our implementation "
   ]
  },
  {
   "cell_type": "code",
   "execution_count": null,
   "id": "skilled-berkeley",
   "metadata": {},
   "outputs": [],
   "source": [
    "j = 1  # l = j here\n",
    "magn = magnetic_quantum_numbers(j)\n",
    "for i in range(len(magn)):\n",
    "    np.testing.assert_almost_equal(\n",
    "        zeeman_shifts(j, j, 0)[i],\n",
    "        magn[i] * physical_constants['Bohr magneton in eV/T'][0])"
   ]
  },
  {
   "cell_type": "markdown",
   "id": "rental-impossible",
   "metadata": {},
   "source": [
    "Yet another testing ansatz is searching for properties of the expected results that we can test without knowing the actual numerical values.\n",
    "An example is the length of the output. We know that `zeeman_shifts` has to produce a list with the same number of elements as `magnetic_quantum_numbers`. This gives us an opportunity for testing with a broad range of different inputs.\n",
    "\n",
    "Below, write tests comparing the lengths. You can use the simple `assert` here because lengths are integers and can compare exactly equal. You can simply list a bunch of possible inputs `j`, `l`, `s` or, for extra points, write a loop / loops that iterate through several different values. Note that not all combinations are physically allowed: $j = l+s, l+s-1, \\ldots , |l-s|$"
   ]
  },
  {
   "cell_type": "code",
   "execution_count": null,
   "id": "institutional-houston",
   "metadata": {},
   "outputs": [],
   "source": [
    "# -- YOUR CODE HERE --"
   ]
  },
  {
   "cell_type": "markdown",
   "id": "integrated-scotland",
   "metadata": {},
   "source": [
    "Another property is that $\\Delta E$ is proportional to $m_j$. This is a simple relationship that we can exploit! We can do so in two ways:\n",
    "- $m_j$ always appears in pairs with opposite sign except for $m_j=0$. The Zeeman shifts thus appear in pairs as well. We can write tests that match the corresponding elements. Mind the order of results produced by `magnetic_quantum_numbers`.\n",
    "- Alternatively, we divide out $m_j$ which should give us the same number for every value returned by the same call of `zeeman_shifts`.\n",
    "\n",
    "As an exercise, implement one or both of these tests. While the second approach is more thorough, the first one can still be a good exercise. It might help to convert the list returned by `zeeman_shifts` to a numpy array first."
   ]
  },
  {
   "cell_type": "code",
   "execution_count": null,
   "id": "driving-slave",
   "metadata": {},
   "outputs": [],
   "source": [
    "# -- YOUR CODE HERE --"
   ]
  },
  {
   "cell_type": "markdown",
   "id": "incorrect-calendar",
   "metadata": {},
   "source": [
    "A last test before we are done with the Zeeman effect. In the beginning we talked about how important it is to also test the error modes of our code. So let's do this! `zeeman_shifts` has the same conditions on `j` as `magnetic_quantum_numbers`:"
   ]
  },
  {
   "cell_type": "code",
   "execution_count": null,
   "id": "harmful-asian",
   "metadata": {},
   "outputs": [],
   "source": [
    "with pytest.raises(ValueError):\n",
    "    zeeman_shifts(0.2, 1, 0)"
   ]
  },
  {
   "cell_type": "code",
   "execution_count": null,
   "id": "acceptable-presentation",
   "metadata": {},
   "outputs": [],
   "source": [
    "with pytest.raises(ValueError):\n",
    "    zeeman_shifts(-1, 1, 0)"
   ]
  },
  {
   "cell_type": "markdown",
   "id": "trying-recipe",
   "metadata": {},
   "source": [
    "We see that `zeeman_shifts` inherited the check for values of $j$ that are not integers or half-integers. But passing in $j=-1$ triggers a different error. We can remedy the situation by adding a corresponding check to the beginning of `zeeman_shifts`. Feel free to do this as a exercise.\n",
    "\n",
    "But there are more potential errors. As already mentioned, there are physical restrictions on the allowed function arguments: $j = l+s, l+s-1, \\ldots , |l-s|$\n",
    "It is evident from the source code of `zeeman_shifts` that those are not verified. As an exercise, you can implement such a check in `zeeman_shifts` and add a corresponding test here:"
   ]
  },
  {
   "cell_type": "code",
   "execution_count": null,
   "id": "fatty-married",
   "metadata": {},
   "outputs": [],
   "source": [
    "# -- YOUR CODE HERE --"
   ]
  },
  {
   "cell_type": "markdown",
   "id": "phantom-reception",
   "metadata": {},
   "source": [
    "***\n",
    "# Exercises"
   ]
  },
  {
   "cell_type": "markdown",
   "id": "governing-despite",
   "metadata": {},
   "source": [
    "## Histogramming\n",
    "\n",
    "Here, we have a simple function for building histograms. When testing it, remember to think of possible _edge_ cases."
   ]
  },
  {
   "cell_type": "code",
   "execution_count": null,
   "id": "urban-blond",
   "metadata": {},
   "outputs": [],
   "source": [
    "def histogram(data, bin_edges):\n",
    "    \"\"\"\n",
    "    Construct a histogram of one dimensional data.\n",
    "    \n",
    "    Arguments:\n",
    "      data: 1D array.\n",
    "      bin_edges: (len=nbins+1) 1D array of bin edges.\n",
    "                  Bin i is in range [bin_edges[i], bin_edges[i+1]].\n",
    "    \"\"\"\n",
    "    hist = np.zeros(shape=[len(bin_edges)-1], dtype=int)\n",
    "    for value in data:\n",
    "        for i in range(1, len(bin_edges)):\n",
    "            if value < bin_edges[i]:\n",
    "                hist[i-1] += 1\n",
    "                break\n",
    "    return hist"
   ]
  },
  {
   "cell_type": "code",
   "execution_count": null,
   "id": "dietary-rhythm",
   "metadata": {},
   "outputs": [],
   "source": [
    "# -- YOUR CODE HERE --\n",
    "edges = np.array([0, 1, 2, 3])\n",
    "np.testing.assert_array_equal(histogram(np.array([]), edges),\n",
    "                              [0, 0, 0])\n",
    "np.testing.assert_array_equal(histogram(np.array([0, 0.1, 0.6, 2, 2.2, 0.2]), edges),\n",
    "                              [4, 0, 2])\n",
    "np.testing.assert_array_equal(histogram(np.array([4, 3]), edges),\n",
    "                              [0, 0, 0])\n",
    "np.testing.assert_array_equal(histogram(np.array([-0.5, 0.1, 1.2, 2.2, 2.2, 0.3]),\n",
    "                                        np.array([-1, 1, 2, 3])),\n",
    "                              [3, 1, 2])\n",
    "\n",
    "# failing\n",
    "# np.testing.assert_array_equal(histogram(np.array([-0.5, 0.1, 1.2, 2.2, 2.2, 0.3]),\n",
    "#                                         edges),\n",
    "#                                [0, 0, 0])\n",
    "# with pytest.raises(ValueError):\n",
    "#     histogram(np.array([0, 0.1, 0.6, 2, 2.2, 0.2]), \n",
    "#               np.array([0, 1, 3, 2]))"
   ]
  },
  {
   "cell_type": "markdown",
   "id": "frank-solid",
   "metadata": {},
   "source": [
    "## Leap Years\n",
    "\n",
    "A leap year is any year that is divisible by 4 unless it is also divisible by 100 and not by 400. The author of the function tried to be clever but is it acutally correct?"
   ]
  },
  {
   "cell_type": "code",
   "execution_count": null,
   "id": "endangered-belarus",
   "metadata": {},
   "outputs": [],
   "source": [
    "def is_leapyear(year):\n",
    "    \"\"\"\n",
    "    Return True if year is a leap year, False otherwise.\n",
    "    \"\"\"\n",
    "    return year % 400 == year % 100 + year % 4 != 0"
   ]
  },
  {
   "cell_type": "code",
   "execution_count": null,
   "id": "located-fault",
   "metadata": {},
   "outputs": [],
   "source": [
    "# -- YOUR CODE HERE --\n",
    "assert is_leapyear(4)\n",
    "assert not is_leapyear(3)\n",
    "assert is_leapyear(400)\n",
    "assert not is_leapyear(100)\n",
    "assert is_leapyear(2020)\n",
    "assert is_leapyear(2000)\n",
    "assert not is_leapyear(1000)"
   ]
  },
  {
   "cell_type": "markdown",
   "id": "israeli-baker",
   "metadata": {},
   "source": [
    "## Chi Squared\n",
    "\n",
    "$$\n",
    "\\chi^2 = \\sum_{i=1}^{N}\\, \\frac{{(y_{\\text{model},\\,i} - y_{\\text{meas},\\,i})}^2}{\\sigma^{2}_{i}}\n",
    "$$"
   ]
  },
  {
   "cell_type": "code",
   "execution_count": null,
   "id": "breeding-annotation",
   "metadata": {},
   "outputs": [],
   "source": [
    "def chi_squared(model, meas, errors):\n",
    "    return np.sum(((model - meas)/errors)**2)"
   ]
  },
  {
   "cell_type": "code",
   "execution_count": null,
   "id": "removable-softball",
   "metadata": {},
   "outputs": [],
   "source": [
    "# -- YOUR CODE HERE --"
   ]
  },
  {
   "cell_type": "markdown",
   "id": "buried-enlargement",
   "metadata": {},
   "source": [
    "## Least Squares Fit*\n",
    "\n",
    "<div class=\"alert alert-block alert-info\">\n",
    "    <b>NOTE</b>\n",
    "    <br>This is a potentially longer and more complicated exercise, feel free to skip it.\n",
    "</div>\n",
    "\n",
    "In this exercise, we are looking at fitting a parabola using the method of least squares. There is a fundamental difference to the previous exercises. Here, we generally cannot sensibly construct an expected output because the fit has to deal with randomess. We can still test a number of special cases, though.\n",
    "Additionally, in cases like this one, it can make sense to do some (at least partially) manual tests. For example, we can perform a fit and plot the result to see if it makes sense."
   ]
  },
  {
   "cell_type": "code",
   "execution_count": null,
   "id": "based-arlington",
   "metadata": {},
   "outputs": [],
   "source": [
    "def fit_parabola(x, y_meas, errors, start_params):\n",
    "    \"\"\"\n",
    "    Perform a least squares fit of a parabola.\n",
    "    \n",
    "    Arguments:\n",
    "      x: Independent variable.\n",
    "      y_meas: measured values of the dependent variable.\n",
    "      errors: Uncertainties of the measured values.\n",
    "      start_params: (len=3) Iniitla values for the parameters of the parabola.\n",
    "      \n",
    "    Returns:\n",
    "      Best fit results for the parameters of the parabola.\n",
    "    \"\"\"\n",
    "    X = np.array([np.ones_like(x), x, x**2]).T\n",
    "    V = np.diag(1/errors**2)\n",
    "    return np.linalg.inv(X.T @ V @ X) @ X.T @ V @ y_meas"
   ]
  },
  {
   "cell_type": "code",
   "execution_count": null,
   "id": "focal-slave",
   "metadata": {},
   "outputs": [],
   "source": [
    "# -- YOUR CODE HERE --"
   ]
  },
  {
   "cell_type": "code",
   "execution_count": null,
   "id": "strange-prison",
   "metadata": {},
   "outputs": [],
   "source": [
    "\n",
    "\n",
    "\n",
    "\n",
    "Possible task:\n",
    "d-spacing of theta=pi/2 in our convention is d=lambda/2"
   ]
  },
  {
   "cell_type": "code",
   "execution_count": null,
   "id": "silent-school",
   "metadata": {},
   "outputs": [],
   "source": [
    "def d_spacing(tof, path_length, angle):\n",
    "    return h * tof / (path_length * neutron_mass * 2 * np.sin(angle))\n",
    "def de_broglie(tof, path_length):\n",
    "    return h*tof / (neutron_mass * path_length)\n",
    "tof = 123\n",
    "path_length = 1000\n",
    "angle = np.pi/2\n",
    "assert d_spacing(tof, path_length, angle) == de_broglie(tof, path_length)/2\n",
    "# assert angle=0 -> inf"
   ]
  },
  {
   "cell_type": "markdown",
   "id": "affiliated-prisoner",
   "metadata": {},
   "source": [
    "## Inelastic Neutron Scattering: Energy Transfer\n",
    "\n",
    "The energy transfer in inelastic scattering of neutrons is\n",
    "- **Direct**:\n",
    "$$\n",
    "\\Delta E_{\\text{direct}} = E_i - \\frac{m_{\\text{n}} L_2^2}{2 (t - t_0)}\\, , \\quad t_0 = \\sqrt{\\frac{L_1^2 m_\\text{n}}{E_i}}\n",
    "$$\n",
    "\n",
    "- **Indirect**:\n",
    "$$\n",
    "\\Delta E_{\\text{indirect}} = \\frac{m_{\\text{n}} L_1^2}{2 (t - t_0)} - E_f\\, , \\quad t_0 = \\sqrt{\\frac{L_2^2 m_\\text{n}}{E_f}}\n",
    "$$\n",
    "\n",
    "where $E_i$, $E_f$ are the initial and final energy, respectively. $t$ is the time-of-flight and $L_1$ and $L_2$ are the lengths of the primary and secondary flight paths.\n",
    "\n",
    "As usual, try to find special cases where the equations become simpler and you can easily predict the output. Also, write tests with incorrect / nonsense input to check if the functions reports errors properly."
   ]
  },
  {
   "cell_type": "code",
   "execution_count": null,
   "id": "touched-basin",
   "metadata": {},
   "outputs": [],
   "source": [
    "from scipy.constants import neutron_mass"
   ]
  },
  {
   "cell_type": "code",
   "execution_count": null,
   "id": "structural-pension",
   "metadata": {},
   "outputs": [],
   "source": [
    "def energy_transfer(ei_or_ef, tof, L1, L2, mode):\n",
    "    \"\"\"\n",
    "    Compute the energy transfer for inelastic neutron scattering.\n",
    "    \n",
    "    All units are SI.\n",
    "    \n",
    "    Arguments:\n",
    "      ei_or_ef: In direct scattering: the initial energy.\n",
    "                In indirect scattering: the final energy.\n",
    "      tof: Time-of-flight.\n",
    "      L1: Primary flight path.\n",
    "      L2: Secondary flight path.\n",
    "      mode: Either 'direct' or 'indirect'.\n",
    "    \"\"\"\n",
    "    t0 = np.sqrt(L1**2 * neutron_mass / ei_or_ef)\n",
    "    delta_t = tof - t0\n",
    "    if mode == 'direct':\n",
    "        return ei_or_ef - neutron_mass * L2**2 / 2 / delta_t**2\n",
    "    elif mode == 'indirect':\n",
    "        return ei_or_ef - neutron_mass * L1**2 / 2 / delta_t**2"
   ]
  },
  {
   "cell_type": "code",
   "execution_count": null,
   "id": "universal-istanbul",
   "metadata": {},
   "outputs": [],
   "source": [
    "# -- YOUR CODE HERE --"
   ]
  },
  {
   "cell_type": "markdown",
   "id": "molecular-industry",
   "metadata": {},
   "source": [
    "## Fibonacci\n",
    "\n",
    "The Fibonacci sequence is a common example for a recursive function. Here we indeed have a recursive implementation that we want to test.\n",
    "This can of course be done with a number of examples that you can pick manually.\n",
    "\n",
    "However, there is a different approach. We can also compute the Fibonacci numbers using \n",
    "$$\n",
    "x_n = \\frac{\\varphi^n - {(1 - \\varphi)}^n}{\\sqrt{5}}\n",
    "$$\n",
    "where $\\varphi \\approx 1.61803399$ is the golcen ratio. You can get a high precision approximation of it from scipy:\n",
    "```python\n",
    "from scipy.constants import golden\n",
    "```\n",
    "Make sure to convert the result of the above equation to an integer or use an approximate comparison when checking against the recursive implementation."
   ]
  },
  {
   "cell_type": "code",
   "execution_count": null,
   "id": "later-cisco",
   "metadata": {},
   "outputs": [],
   "source": [
    "def fibonacci(n):\n",
    "    \"\"\"\n",
    "    Return the nth Fibonacci number.\n",
    "    \"\"\"\n",
    "    if n in (0, 1):\n",
    "        return n\n",
    "    return fibonacci(n - 1) + fibonacci(n - 2)"
   ]
  },
  {
   "cell_type": "code",
   "execution_count": null,
   "id": "moved-cedar",
   "metadata": {},
   "outputs": [],
   "source": [
    "# -- YOUR CODE HERE --\n",
    "from scipy.constants import golden\n",
    "def fib_golden(n):\n",
    "    return int((golden**n - (1 - golden)**n) / np.sqrt(5))\n",
    "for n in range(20):\n",
    "    assert fibonacci(n) == fib_golden(n)\n",
    "    \n",
    "with pytest.raises(ValueError):\n",
    "    fibonacci(-1)"
   ]
  },
  {
   "cell_type": "code",
   "execution_count": null,
   "id": "tender-latvia",
   "metadata": {},
   "outputs": [],
   "source": []
  },
  {
   "cell_type": "code",
   "execution_count": null,
   "id": "informative-dublin",
   "metadata": {},
   "outputs": [],
   "source": []
  }
 ],
 "metadata": {
  "kernelspec": {
   "display_name": "python-training",
   "language": "python",
   "name": "python-training"
  },
  "language_info": {
   "codemirror_mode": {
    "name": "ipython",
    "version": 3
   },
   "file_extension": ".py",
   "mimetype": "text/x-python",
   "name": "python",
   "nbconvert_exporter": "python",
   "pygments_lexer": "ipython3",
   "version": "3.9.1"
  }
 },
 "nbformat": 4,
 "nbformat_minor": 5
}
