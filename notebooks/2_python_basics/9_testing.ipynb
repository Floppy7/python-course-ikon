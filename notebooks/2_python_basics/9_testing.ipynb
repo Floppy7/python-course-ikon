{
 "cells": [
  {
   "cell_type": "markdown",
   "id": "typical-infection",
   "metadata": {},
   "source": [
    "# Testing\n",
    "\n",
    "We begin with a simple example. We want to implement a function which computes the allowed magnetic quantum numbers $m$ for any given angular momentum $j$. Remember that $m = -j, -j+1, \\ldots , j-1, j$. This function is implemented below.\n",
    "\n",
    "<div class=\"alert alert-block alert-danger\">\n",
    "    <b>HINT</b>\n",
    "    <br> Most examples in this notebook contain an implementation of the function that we want to test. We will always have a set of requirements for each function and out tests are meant to ensure that those requirements are met. Reading the actual implementations might bias our tests.\n",
    "</div>\n",
    "\n",
    "<div class=\"alert alert-block alert-success\">\n",
    "    <b>NOTE</b>\n",
    "    <br>The code samples are not always written in a clean way but are sometimes overly convoluted or complicated in order to garnish them with hidden bugs. If you are looking for advice on how to write good Python, search elsewhere!\n",
    "</div>"
   ]
  },
  {
   "cell_type": "code",
   "execution_count": null,
   "id": "accessory-result",
   "metadata": {},
   "outputs": [],
   "source": [
    "import numpy as np"
   ]
  },
  {
   "cell_type": "code",
   "execution_count": null,
   "id": "athletic-salmon",
   "metadata": {},
   "outputs": [],
   "source": [
    "def magnetic_quantum_numbers(j):\n",
    "    \"\"\"\n",
    "    Returns a list of all magnetic quantum number for a given angular momentum j.\n",
    "    The results are sorted in ascending order.\n",
    "    \"\"\"\n",
    "    if j < 0:\n",
    "        raise ValueError('j must be greater equal 0')\n",
    "    negative = np.arange(-j, 0)\n",
    "    positive = -negative[::-1]\n",
    "    return list(np.concatenate((negative, [0], positive)))"
   ]
  },
  {
   "cell_type": "markdown",
   "id": "chemical-serbia",
   "metadata": {},
   "source": [
    "In order to test tis function, we can compare the output to what we would expect. For example:\n",
    "- $j = 0 \\rightarrow m = 0$\n",
    "- $j = 1 \\rightarrow m = 0, \\pm1$\n",
    "\n",
    "According to its docstring, `magnetic_quantum_numbers` promises to return a list of numbers sorted in ascending order. This implies that for $j=0,1$, we expect to get `[0]` and `[-1, 0, 1]`.\n",
    "\n",
    "We can encode tests for these by using assertions. The `assert` keyword in Python takes a condition and if that condition is false, raises an `AssertionError`."
   ]
  },
  {
   "cell_type": "code",
   "execution_count": null,
   "id": "potential-logic",
   "metadata": {},
   "outputs": [],
   "source": [
    "assert magnetic_quantum_numbers(0) == [0]\n",
    "assert magnetic_quantum_numbers(1) == [-1, 0, 1]"
   ]
  },
  {
   "cell_type": "markdown",
   "id": "challenging-supplier",
   "metadata": {},
   "source": [
    "No output was produced which means that both assertions passed. Our tests were successful! If this is too boring for you, feel free to add a print statement at the end of a cell to notify you that the tests passed, see below.\n",
    "\n",
    "Those tests are great and all, but only two tests are hardly enough. In particular, we have only used integer values for $j$. Let's try a half integer now:"
   ]
  },
  {
   "cell_type": "code",
   "execution_count": null,
   "id": "particular-language",
   "metadata": {},
   "outputs": [],
   "source": [
    "assert magnetic_quantum_numbers(0.5) == [-0.5, 0.5]\n",
    "print(\"Success!\")"
   ]
  },
  {
   "cell_type": "markdown",
   "id": "supported-niagara",
   "metadata": {},
   "source": [
    "This is not so great anymore. What you are seing above is one of the aforementioned `AssertionErrors`. Unfortunately, it does not provide any useful information other than letting us know that the test failed. We will later see ways for getting better outputs for failed tests. For now, just look at the result of our function manually:"
   ]
  },
  {
   "cell_type": "code",
   "execution_count": null,
   "id": "dressed-correspondence",
   "metadata": {},
   "outputs": [],
   "source": [
    "magnetic_quantum_numbers(0.5)"
   ]
  },
  {
   "cell_type": "markdown",
   "id": "central-blair",
   "metadata": {},
   "source": [
    "There is an extra 0 in the list. This was fine for integer $j$ but it should not be there for half integers.\n",
    "We will fix `magnetic_quantum_numbers` later, but for now we leave it as it is.\n",
    "\n",
    "### Error Modes\n",
    "\n",
    "Until now, we have only looked at the 'happy path' of our function, meaning that all inputs are valid and the computation works, albeit sometimes incorrectly. But it is equally important to test the error paths. This is to ensure that errors such as invalid inputs or failure of intermediate operations are detected and handled properly. When that is not the case, the results of a function can be incorrect without anyone noticing.\n",
    "\n",
    "***\n",
    "#### Aside: Exceptions\n",
    "In Python, errors are almost always reported in the form of exceptions. You do not need to understand exactly how the work now. In order to signal ('raise') an error, we can simply write\n",
    "```python\n",
    "raise RuntimeError(\"message\")\n",
    "```\n",
    "We can pass any message we want to describe the error. There are multiple predefined error types in Python. `RuntimeError` is a general error that we can use in most situations. When a function argument is invalid, one usually raises a `ValueError`.\n",
    "***\n",
    "\n",
    "`magnetic_quantum_numbers` has two conditions on its input:\n",
    "- $j \\geq 0$\n",
    "- $j$ is an integer or half integer\n",
    "\n",
    "We thus expect our function to raise a `ValueError` if either condition is violated.\n",
    "In order to test for that we use the external package __[pytest](https://docs.pytest.org/en/stable/index.html)__ which provides many utilities for writing tests. Here, we need the contexr manager `pytest.raises`. Again, there is no need to understand what a context manager is. For our purposes, simply read\n",
    "```python\n",
    "with pytest.raises(ValueError):\n",
    "```\n",
    "as 'check that the indented code below it raises a `ValueError`'."
   ]
  },
  {
   "cell_type": "code",
   "execution_count": null,
   "id": "chronic-geneva",
   "metadata": {},
   "outputs": [],
   "source": [
    "import pytest\n",
    "with pytest.raises(ValueError):\n",
    "    magnetic_quantum_numbers(-1)\n",
    "with pytest.raises(ValueError):\n",
    "    magnetic_quantum_numbers(0.2)"
   ]
  },
  {
   "cell_type": "markdown",
   "id": "alpine-raising",
   "metadata": {},
   "source": [
    "Another failure! But look at the error message. Only the second test failed by not raising a `ValueError`. The first one succeded. Looking at the implementation of `magnetic_quantum_numbers` above shows that there is indeed a check $j < 0$ but none for the integer condition.\n",
    "\n",
    "It is important to perform these kinds of tests or error modes. We cannot write a sensible test for the expected output of `magnetic_quantum_numbers(0.2)` because that is simply invalid. If this is not detected, however, a user might call it with an invalid argument and get garbage results without knowing it!\n",
    "\n",
    "Below you can find a complete implementation which passes all of our tests. Feel free to try it out and write more tests."
   ]
  },
  {
   "cell_type": "code",
   "execution_count": null,
   "id": "amazing-parking",
   "metadata": {},
   "outputs": [],
   "source": [
    "def magnetic_quantum_numbers(j):\n",
    "    if j < 0:\n",
    "        raise ValueError('j must be greater equal 0')\n",
    "    if (2 * j) != int(2 * j):\n",
    "        raise ValueError('j must be an integer or half integer')\n",
    "    return list(np.arange(-j, j+1, 1))"
   ]
  },
  {
   "cell_type": "markdown",
   "id": "respiratory-arcade",
   "metadata": {},
   "source": [
    "### Zeeman Splitting\n",
    "\n",
    "We can now use our function to compute physical observables. As an example, we are going to look at the Zeeman effect. Lt's start by reminding ourselves of the formula. The coupling of the spin of an electron to an external magentic field $B$ shifts the energy level of that electron by\n",
    "$$\n",
    "\\Delta E = \\mu_B B g_j m_j ,\n",
    "$$\n",
    "where $\\mu_B$ is the Bohr Magneton, $g_j$ the Landé factor, and $m_j$ the magnetic quantum number that we computed above. For simplicity, we only look at energy shifts relative to the magnetic field and omit $B$ in the following.\n",
    "\n",
    "First, we define a function which computes all energy shifts for a given set of angular momenta:"
   ]
  },
  {
   "cell_type": "code",
   "execution_count": null,
   "id": "visible-plenty",
   "metadata": {},
   "outputs": [],
   "source": [
    "def zeeman_shifts(j, l, s):\n",
    "    lande = 1 + (j*(j+1) - l*(l+1) + s*(s+1)) / (2*j*(j+1))\n",
    "    magneton = physical_constants['Bohr magneton in eV/T'][0]\n",
    "    magn = magnetic_quantum_numbers(j)\n",
    "    return [magneton * m * lande for m in magn]"
   ]
  },
  {
   "cell_type": "markdown",
   "id": "historical-customs",
   "metadata": {},
   "source": [
    "We are now faced with a difficult problem. We have an piece of Python code which implements a mathematical equation. But how can we test whether those two match?\n",
    "Before, we had a simple rule for what the output should be. This let us write some tests to compare the actual to the expected output. However, now it seems as though we need the output of our function in order to know what result it should produce in the first place.\n",
    "\n",
    "Luckily though, people have performed many calculations based on the Zeeman effect already. So we can pick one or more of those results and compare out implementation with them.\n",
    "\n",
    "Let us choose the Lyman-α line, meaning the transition of an electron from an $n = 2$ orbital to $n=1$ in hydrogen. The impact of the Zeeman effect on this transition depends on the angular momentum, of course.\n",
    "For a transition from $|n, l, j, m_j\\rangle = |2, 1, \\frac{1}{2}, +\\frac{1}{2}\\rangle$ to $|1, 0, \\frac{1}{2}, +\\frac{1}{2}\\rangle$, the Zeeman effect induced energy difference is $- \\frac{2}{3} \\mu_B$. So let's use that as a test: (We have electrons, so $s = \\frac{1}{2}$ is fixed.)"
   ]
  },
  {
   "cell_type": "code",
   "execution_count": null,
   "id": "certain-comparative",
   "metadata": {},
   "outputs": [],
   "source": [
    "from scipy.constants import physical_constants\n",
    "# The `[0]` in physical_constants['name'][0] extracts the actual value.\n",
    "bohr_magneton = physical_constants['Bohr magneton in eV/T'][0]\n",
    "before = zeeman_shifts(1/2, 1, 1/2)\n",
    "after = zeeman_shifts(1/2, 0, 1/2)\n",
    "assert before[1]-after[1] == -2 / 3 * bohr_magneton"
   ]
  },
  {
   "cell_type": "markdown",
   "id": "entertaining-jimmy",
   "metadata": {},
   "source": [
    "The test passes! Note that we are using `before[1]` and `after[1]`, which extract the $m_j = +\\frac{1}{2}$ elements according to"
   ]
  },
  {
   "cell_type": "code",
   "execution_count": null,
   "id": "motivated-inspector",
   "metadata": {},
   "outputs": [],
   "source": [
    "magnetic_quantum_numbers(1/2)"
   ]
  },
  {
   "cell_type": "markdown",
   "id": "ranging-chess",
   "metadata": {},
   "source": [
    "As a nice bonus, we are loading the Bohr magneton from SciPy with a specific unit. This lets us check if our function uses the units we expect.\n",
    "\n",
    "There are a lot more transitions we can use. For instance, $|2, 1, \\frac{3}{2}, +\\frac{1}{2}\\rangle$ to $|1, 0, \\frac{1}{2}, -\\frac{1}{2}\\rangle$ has an energy of $\\frac{5}{3} \\mu_B$:"
   ]
  },
  {
   "cell_type": "code",
   "execution_count": null,
   "id": "royal-reporter",
   "metadata": {},
   "outputs": [],
   "source": [
    "before = zeeman_shifts(3/2, 1, 1/2)\n",
    "after = zeeman_shifts(1/2, 0, 1/2)\n",
    "assert before[2]-after[0] == 5/3*bohr_magneton"
   ]
  },
  {
   "cell_type": "markdown",
   "id": "irish-brain",
   "metadata": {},
   "source": [
    "What happened this time? Again, the failure message does not give us a lot of information. So let's output the results ourselves:"
   ]
  },
  {
   "cell_type": "code",
   "execution_count": null,
   "id": "progressive-greeting",
   "metadata": {},
   "outputs": [],
   "source": [
    "print(before[2]-after[0])\n",
    "print(5/3*bohr_magneton)"
   ]
  },
  {
   "cell_type": "markdown",
   "id": "shared-crime",
   "metadata": {},
   "source": [
    "Pretty close but not an exact match! The problem here is that we are performing calculations with floating point numbers. Those have limited precision and we cannot expect two equivalent calculations to produce exactly the same results unless they do  _exactly_ the same operations in _exactly_ the same order.\n",
    "\n",
    "This means that we should not use the equality operator (`==`) as above but rather test for approximate equality. A useful tool for this is the 'testing' module of numpy (__https://numpy.org/doc/stable/reference/routines.testing.html__). It provides __[assert_almost_equal](https://numpy.org/doc/stable/reference/generated/numpy.testing.assert_almost_equal.html#numpy.testing.assert_almost_equal)__ which does what we need."
   ]
  },
  {
   "cell_type": "code",
   "execution_count": null,
   "id": "placed-colonial",
   "metadata": {},
   "outputs": [],
   "source": [
    "np.testing.assert_almost_equal(before[2]-after[0], 5/3*bohr_magneton)"
   ]
  },
  {
   "cell_type": "markdown",
   "id": "stainless-extent",
   "metadata": {},
   "source": [
    "Now there is no output meaning that the test passes.\n",
    "\n",
    "We could keep going and add more tests and you should do this in practice. But these kinds of tests are often only of limited use because we generally do not have known outputs that we can easily compare to.\n",
    "\n",
    "A different approach (potentially supplementing the above) is searching for simple cases where we know the correct result. One such case would be a particle without spin. Here, the interaction with the magnetic field depends only on the orbital angular momentum and should thus give an energy shift of $m_j \\mu_B$. And indeed, our implementation "
   ]
  },
  {
   "cell_type": "code",
   "execution_count": null,
   "id": "continued-yorkshire",
   "metadata": {},
   "outputs": [],
   "source": [
    "j = 1  # l = j here\n",
    "magn = magnetic_quantum_numbers(j)\n",
    "for i in range(len(magn)):\n",
    "    np.testing.assert_almost_equal(\n",
    "        zeeman_shifts(j, j, 0)[i],\n",
    "        magn[i] * physical_constants['Bohr magneton in eV/T'][0])"
   ]
  },
  {
   "cell_type": "markdown",
   "id": "eastern-harmony",
   "metadata": {},
   "source": [
    "Yet another testing ansatz is searching for properties of the expected results that we can test without knowing the actual numerical values.\n",
    "An example is the length of the output. We know that `zeeman_shifts` has to produce a list with the same number of elements as `magnetic_quantum_numbers`. This gives us an opportunity for testing with a broad range of different inputs.\n",
    "\n",
    "Below, write tests comparing the lengths. You can use the simple `assert` here because lengths are integers and can compare exactly equal. You can simply list a bunch of possible inputs `j`, `l`, `s` or, for extra points, write a loop / loops that iterate through several different values. Note that not all combinations are physically allowed: $j = l+s, l+s-1, \\ldots , |l-s|$"
   ]
  },
  {
   "cell_type": "code",
   "execution_count": null,
   "id": "hourly-sheet",
   "metadata": {},
   "outputs": [],
   "source": [
    "# -- YOUR CODE HERE --\n",
    "# --------------------"
   ]
  },
  {
   "cell_type": "markdown",
   "id": "promising-terminal",
   "metadata": {},
   "source": [
    "Another property is that $\\Delta E$ is proportional to $m_j$. This is a simple relationship that we can exploit! We can do so in two ways:\n",
    "- $m_j$ always appears in pairs with opposite sign except for $m_j=0$. The Zeeman shifts thus appear in pairs as well. We can write tests that match the corresponding elements. Mind the order of results produced by `magnetic_quantum_numbers`.\n",
    "- Alternatively, we divide out $m_j$ which should give us the same number for every value returned by the same call of `zeeman_shifts`.\n",
    "\n",
    "As an exercise, implement one or both of these tests. While the second approach is more thorough, the first one can still be a good exercise. It might help to convert the list returned by `zeeman_shifts` to a numpy array first."
   ]
  },
  {
   "cell_type": "code",
   "execution_count": null,
   "id": "hairy-southwest",
   "metadata": {},
   "outputs": [],
   "source": [
    "# -- YOUR CODE HERE --\n",
    "# --------------------"
   ]
  },
  {
   "cell_type": "markdown",
   "id": "honey-plate",
   "metadata": {},
   "source": [
    "A last test before we are done with the Zeeman effect. In the beginning we talked about how important it is to also test the error modes of our code. So let's do this! `zeeman_shifts` has the same conditions on `j` as `magnetic_quantum_numbers`:"
   ]
  },
  {
   "cell_type": "code",
   "execution_count": null,
   "id": "narrative-thinking",
   "metadata": {},
   "outputs": [],
   "source": [
    "with pytest.raises(ValueError):\n",
    "    zeeman_shifts(0.2, 1, 0)"
   ]
  },
  {
   "cell_type": "code",
   "execution_count": null,
   "id": "brazilian-gates",
   "metadata": {},
   "outputs": [],
   "source": [
    "with pytest.raises(ValueError):\n",
    "    zeeman_shifts(-1, 1, 0)"
   ]
  },
  {
   "cell_type": "markdown",
   "id": "atomic-maximum",
   "metadata": {},
   "source": [
    "We see that `zeeman_shifts` inherited the check for values of $j$ that are not integers or half-integers. But passing in $j=-1$ triggers a different error. We can remedy the situation by adding a corresponding check to the beginning of `zeeman_shifts`. Feel free to do this as a exercise.\n",
    "\n",
    "But there are more potential errors. As already mentioned, there are physical restrictions on the allowed function arguments: $j = l+s, l+s-1, \\ldots , |l-s|$\n",
    "It is evident from the source code of `zeeman_shifts` that those are not verified. As an exercise, you can implement such a check in `zeeman_shifts` and add a corresponding test here:"
   ]
  },
  {
   "cell_type": "code",
   "execution_count": null,
   "id": "electric-description",
   "metadata": {},
   "outputs": [],
   "source": [
    "# -- YOUR CODE HERE --\n",
    "# --------------------"
   ]
  },
  {
   "cell_type": "markdown",
   "id": "metallic-singing",
   "metadata": {},
   "source": [
    "***\n",
    "# Exercises"
   ]
  },
  {
   "cell_type": "markdown",
   "id": "impossible-confidentiality",
   "metadata": {},
   "source": [
    "### Chi squared"
   ]
  },
  {
   "cell_type": "code",
   "execution_count": null,
   "id": "included-rugby",
   "metadata": {},
   "outputs": [],
   "source": [
    "def chi_squared(model, experimental, errors):\n",
    "    return np.sum(((model - experimental)/errors)**2)"
   ]
  },
  {
   "cell_type": "code",
   "execution_count": null,
   "id": "suited-pennsylvania",
   "metadata": {},
   "outputs": [],
   "source": [
    "experimental = np.array([0.1, 1.2, 0.5])\n",
    "errors = np.array([0.05, 0.2, 0.01])\n",
    "assert chi_squared(experimental, experimental, errors) == 0\n",
    "with pytest.raises(ValueError):\n",
    "    chi_squared(np.array([0.3, 1.0]), experimental, errors)\n",
    "with pytest.raises(ValueError):\n",
    "    chi_squared(np.array([1]), experimental, errors)"
   ]
  },
  {
   "cell_type": "code",
   "execution_count": null,
   "id": "exclusive-spending",
   "metadata": {},
   "outputs": [],
   "source": []
  },
  {
   "cell_type": "raw",
   "id": "educational-intellectual",
   "metadata": {},
   "source": [
    "Possible task:\n",
    "d-spacing of theta=pi/2 in our convention is d=lambda/2"
   ]
  },
  {
   "cell_type": "code",
   "execution_count": null,
   "id": "configured-modeling",
   "metadata": {},
   "outputs": [],
   "source": [
    "def d_spacing(tof, path_length, angle):\n",
    "    return h * tof / (path_length * neutron_mass * 2 * np.sin(angle))\n",
    "def de_broglie(tof, path_length):\n",
    "    return h*tof / (neutron_mass * path_length)\n",
    "tof = 123\n",
    "path_length = 1000\n",
    "angle = np.pi/2\n",
    "assert d_spacing(tof, path_length, angle) == de_broglie(tof, path_length)/2\n",
    "# assert angle=0 -> inf"
   ]
  },
  {
   "cell_type": "code",
   "execution_count": null,
   "id": "ranging-hospital",
   "metadata": {},
   "outputs": [],
   "source": [
    "def energy_transfer_direct(incident_energy, tof, paths):\n",
    "    t0 = np.sqrt(paths['L1']**2 * neutron_mass / incident_energy)\n",
    "    delta_t = tof - t0\n",
    "    return incident_energy - neutron_mass * paths['L2']**2 / 2 / delta_t**2"
   ]
  },
  {
   "cell_type": "code",
   "execution_count": null,
   "id": "desirable-straight",
   "metadata": {},
   "outputs": [],
   "source": [
    "ei = 741\n",
    "tof = 0.3\n",
    "p = {'L1': 0.1, 'L2': 0}\n",
    "assert energy_transfer_direct(ei, tof, p) == ei\n",
    "\n",
    "# important to use good orders of magnitude\n",
    "ei = physical_constants['electron volt'][0]\n",
    "tof = 1e-9\n",
    "p = {'L1': 0, 'L2': 1}\n",
    "energy_transfer_direct(ei, tof, p)==ei"
   ]
  },
  {
   "cell_type": "markdown",
   "id": "matched-greensboro",
   "metadata": {},
   "source": [
    "# histogram"
   ]
  },
  {
   "cell_type": "code",
   "execution_count": null,
   "id": "genetic-whole",
   "metadata": {},
   "outputs": [],
   "source": [
    "def histogram(data, bin_edges):\n",
    "    hist = np.zeros(shape=[len(bin_edges)-1], dtype=int)\n",
    "    for value in data:\n",
    "        for i in range(1, len(bin_edges)):\n",
    "            if value < bin_edges[i]:\n",
    "                hist[i-1] += 1\n",
    "                break\n",
    "    return hist"
   ]
  },
  {
   "cell_type": "code",
   "execution_count": null,
   "id": "irish-artist",
   "metadata": {},
   "outputs": [],
   "source": [
    "edges = np.array([0, 1, 2, 3])\n",
    "np.testing.assert_array_equal(histogram(np.array([]), edges),\n",
    "                              [0, 0, 0])\n",
    "np.testing.assert_array_equal(histogram(np.array([0, 0.1, 0.6, 2, 2.2, 0.2]), edges),\n",
    "                              [4, 0, 2])\n",
    "np.testing.assert_array_equal(histogram(np.array([4, 3]), edges),\n",
    "                              [0, 0, 0])\n",
    "np.testing.assert_array_equal(histogram(np.array([-0.5, 0.1, 1.2, 2.2, 2.2, 0.3]),\n",
    "                                        np.array([-1, 1, 2, 3])),\n",
    "                              [3, 1, 2])\n",
    "\n",
    "# failing\n",
    "# np.testing.assert_array_equal(histogram(np.array([-0.5, 0.1, 1.2, 2.2, 2.2, 0.3]),\n",
    "#                                         edges),\n",
    "#                                [0, 0, 0])\n",
    "# with pytest.raises(ValueError):\n",
    "#     histogram(np.array([0, 0.1, 0.6, 2, 2.2, 0.2]), \n",
    "#               np.array([0, 1, 3, 2]))"
   ]
  },
  {
   "cell_type": "code",
   "execution_count": null,
   "id": "figured-mongolia",
   "metadata": {},
   "outputs": [],
   "source": [
    "histogram([-1, 0.1, 0.2,5], edges)"
   ]
  },
  {
   "cell_type": "code",
   "execution_count": null,
   "id": "disturbed-wallet",
   "metadata": {},
   "outputs": [],
   "source": [
    "histogram([0, 1, 2, 3], [1])"
   ]
  },
  {
   "cell_type": "raw",
   "id": "circular-kazakhstan",
   "metadata": {},
   "source": [
    "1. If year % 4 == 0, goto 2, else 5\n",
    "2. if year % 100 == 0, goto 3, else 4\n",
    "3. if year % 400 == 0, goto 4 else 5\n",
    "4. is leap year\n",
    "5. is not leap year"
   ]
  },
  {
   "cell_type": "code",
   "execution_count": null,
   "id": "appropriate-cookbook",
   "metadata": {},
   "outputs": [],
   "source": [
    "def is_leapyear(year):\n",
    "    if year % 4 != 0:\n",
    "        return False\n",
    "    if year % 100 != 0:\n",
    "        return True\n",
    "    if year % 400 != 0:\n",
    "        return False\n",
    "    return True"
   ]
  },
  {
   "cell_type": "code",
   "execution_count": null,
   "id": "norwegian-andrew",
   "metadata": {},
   "outputs": [],
   "source": [
    "assert is_leapyear(4)\n",
    "assert is_leapyear(400)\n",
    "assert not is_leapyear(100)\n",
    "assert is_leapyear(2020)\n",
    "assert is_leapyear(2000)\n",
    "assert not is_leapyear(1000)"
   ]
  },
  {
   "cell_type": "code",
   "execution_count": null,
   "id": "molecular-palestine",
   "metadata": {},
   "outputs": [],
   "source": []
  }
 ],
 "metadata": {
  "kernelspec": {
   "display_name": "python-training",
   "language": "python",
   "name": "python-training"
  },
  "language_info": {
   "codemirror_mode": {
    "name": "ipython",
    "version": 3
   },
   "file_extension": ".py",
   "mimetype": "text/x-python",
   "name": "python",
   "nbconvert_exporter": "python",
   "pygments_lexer": "ipython3",
   "version": "3.9.1"
  }
 },
 "nbformat": 4,
 "nbformat_minor": 5
}
