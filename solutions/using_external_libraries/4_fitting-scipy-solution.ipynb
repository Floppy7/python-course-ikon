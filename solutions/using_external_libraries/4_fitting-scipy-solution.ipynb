{
 "cells": [
  {
   "cell_type": "markdown",
   "metadata": {},
   "source": [
    "# Fitting with scipy - solution to bonus exercise"
   ]
  },
  {
   "cell_type": "code",
   "execution_count": null,
   "metadata": {},
   "outputs": [],
   "source": [
    "# import python modules for plotting, fitting\n",
    "import numpy as np\n",
    "%matplotlib notebook\n",
    "import matplotlib.pyplot as plt\n",
    "from scipy.optimize import curve_fit\n",
    "\n",
    "# for interactive plot\n",
    "import ipywidgets"
   ]
  },
  {
   "cell_type": "code",
   "execution_count": null,
   "metadata": {},
   "outputs": [],
   "source": [
    "def lorentzian(xx, scale=1.0, center=1.0, hwhm=3.0):\n",
    "    if hwhm == 0:\n",
    "        raise ValueError('hwhm of the lorentzian is equal to zero.')\n",
    "    return scale * hwhm / ((xx-center)**2 + hwhm**2) / np.pi"
   ]
  },
  {
   "cell_type": "code",
   "execution_count": null,
   "metadata": {},
   "outputs": [],
   "source": [
    "xx = np.linspace(-10, 10, 500)\n",
    "lorentzian_noisy_exo = lorentzian(xx, 3, 4, 0.5) * (\n",
    "    1. + 0.1*np.random.normal(0,1,500)) + 0.01*np.random.normal(0,1,500)\n",
    "\n",
    "initial_params = [5.5, 0.0, 0.55]\n",
    "\n",
    "fig8 = plt.figure()\n",
    "gs = fig8.add_gridspec(3, 1)\n",
    "f8_ax1 = fig8.add_subplot(gs[0:2, :])\n",
    "f8_ax2 = fig8.add_subplot(gs[2, :])\n",
    "f8_ax1.plot(xx, lorentzian_noisy_exo, label=\"reference data for exercise\")\n",
    "lines = f8_ax1.plot(xx, lorentzian(xx, *initial_params), label='model to be fitted')\n",
    "fit_lines = f8_ax1.plot(xx, np.zeros_like(xx), '--', label='fit')\n",
    "res_lines = f8_ax2.plot(xx, np.zeros_like(xx), label='residuals')\n",
    "f8_ax1.set_ylabel('lorentzian(x,{},{},{})'.format(*initial_params))\n",
    "f8_ax1.set_xlabel('x')\n",
    "f8_ax1.grid()\n",
    "f8_ax1.legend()\n",
    "f8_ax2.set_xlabel('x')\n",
    "f8_ax2.grid()\n",
    "f8_ax2.legend()\n",
    "\n",
    "def interactive_plot_exo(scale, center, hwhm):\n",
    "    lines[0].set_ydata(lorentzian(xx, scale, center, hwhm))\n",
    "    plt.ylabel('lorentzian(x,{scale},{center},{hwhm})'.\n",
    "               format(scale=scale, center=center, hwhm=hwhm))\n",
    "\n",
    "interactive_plot_exo = ipywidgets.interactive(interactive_plot_exo, \n",
    "                                          scale=(1.0, 10.0), \n",
    "                                          center=(-5.0, 5.0), \n",
    "                                          hwhm=(0.1, 1.0))\n",
    "\n",
    "# Define function to reset all parameters' values to the initial ones\n",
    "def reset_values(b):\n",
    "    \"\"\"Reset the interactive plots to inital values.\"\"\"\n",
    "    for i, p in enumerate(initial_params):\n",
    "        interactive_plot_exo.children[i].value = p\n",
    "\n",
    "# Define reset button and occurring action when clicking on it\n",
    "reset_button_exo = ipywidgets.Button(description = \"Reset\")\n",
    "reset_button_exo.on_click(reset_values)\n",
    "\n",
    "params_exo = [0, 0, 0]\n",
    "pcov_exo = [0, 0, 0]\n",
    "\n",
    "# Capture fit results output\n",
    "fit_results = ipywidgets.Output()\n",
    "\n",
    "chosen_method_optim = ipywidgets.RadioButtons(\n",
    "    options=['lm', 'trf', 'dogbox'],\n",
    "    value='lm', # Defaults to 'lm'\n",
    "    description='Method for optimization',\n",
    "    style={'description_width': 'initial'},\n",
    "    disabled=False\n",
    ")\n",
    "\n",
    "# Define reset button and occurring action when clicking on it\n",
    "run_fit_button = ipywidgets.Button(description = \"Fit!\")\n",
    "\n",
    "# display the interactive plot\n",
    "display(interactive_plot_exo, reset_button_exo)\n",
    "display(ipywidgets.HBox([chosen_method_optim, run_fit_button, fit_results]))\n",
    "\n",
    "def run_fit(button):\n",
    "    params_exo, pcov_exo = curve_fit(lorentzian, xx, lorentzian_noisy_exo,\n",
    "                                      method=chosen_method_optim.value,\n",
    "                                      p0=initial_params)\n",
    "    fit_results.clear_output()\n",
    "    with fit_results:\n",
    "        params_error = np.sqrt(np.diag(pcov_exo))\n",
    "        print('Values of refined parameters:')\n",
    "        print('scale:', params_exo[0],'+/-', params_error[0])\n",
    "        print('center :', params_exo[1],'+/-', params_error[1])\n",
    "        print('HWHM', params_exo[2],'+/-', params_error[2])\n",
    "    fit_lines[0].set_ydata(lorentzian(xx, *params_exo))\n",
    "    res_lines[0].set_ydata(lorentzian_noisy_exo - fit_lines[0].get_ydata())\n",
    "\n",
    "run_fit_button.on_click(run_fit)"
   ]
  },
  {
   "cell_type": "code",
   "execution_count": null,
   "metadata": {},
   "outputs": [],
   "source": []
  }
 ],
 "metadata": {
  "kernelspec": {
   "display_name": "Python 3",
   "language": "python",
   "name": "python3"
  },
  "language_info": {
   "codemirror_mode": {
    "name": "ipython",
    "version": 3
   },
   "file_extension": ".py",
   "mimetype": "text/x-python",
   "name": "python",
   "nbconvert_exporter": "python",
   "pygments_lexer": "ipython3",
   "version": "3.7.4"
  }
 },
 "nbformat": 4,
 "nbformat_minor": 2
}
