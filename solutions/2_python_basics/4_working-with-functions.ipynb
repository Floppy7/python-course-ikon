{
 "cells": [
  {
   "cell_type": "markdown",
   "metadata": {},
   "source": [
    "## Working with functions - Solutions"
   ]
  },
  {
   "cell_type": "markdown",
   "metadata": {},
   "source": [
    "**(1) Task:** <br>\n",
    "Before running the function below, what would you expect to happen when swapping the input arguments?\n",
    "\n",
    "**(1) Solution:** <br>\n",
    "Since Python does not require declared parameter types, it doesn't matter in this case what is the string and what is the integer, so the function will perform the same."
   ]
  },
  {
   "cell_type": "code",
   "execution_count": null,
   "metadata": {},
   "outputs": [],
   "source": [
    "def print_N(x, N):\n",
    "    print(N*x)"
   ]
  },
  {
   "cell_type": "code",
   "execution_count": null,
   "metadata": {},
   "outputs": [],
   "source": [
    "print_N(\"-><-\", 10)\n",
    "print_N(\"-||-\", 10)\n",
    "\n",
    "print_N(10, \"-><-\")\n",
    "print_N(10, \"-||-\")"
   ]
  },
  {
   "cell_type": "markdown",
   "metadata": {},
   "source": [
    "**(2) Task:** <br>\n",
    "Write a function that multiply two inputs and returns the result, but if the result is larger than 100, it should be halved.\n",
    "\n",
    "**(2) Solution:** <br>\n",
    "The result needs to be held in a internal variable and a if sentence should be used to decide if should be reduced or not."
   ]
  },
  {
   "cell_type": "code",
   "execution_count": null,
   "metadata": {},
   "outputs": [],
   "source": [
    "def multiply_with_limit(x, y):\n",
    "    result = x*y\n",
    "    if result > 100:\n",
    "        result *= 0.5\n",
    "    \n",
    "    return result\n",
    "    \n",
    "\n",
    "a = multiply_with_limit(5,8)\n",
    "print(a)\n",
    "b = multiply_with_limit(12,9)\n",
    "print(b)"
   ]
  },
  {
   "cell_type": "markdown",
   "metadata": {},
   "source": [
    "**(3) Task:** <br>\n",
    "Write a function that combines two lists\n",
    "\n",
    "**(3) Solution:** <br>\n",
    "In python two lists can be combined by using the + operator, so this function is almost trivial."
   ]
  },
  {
   "cell_type": "code",
   "execution_count": null,
   "metadata": {},
   "outputs": [],
   "source": [
    "def combine_lists(a, b):\n",
    "    return a + b\n",
    "\n",
    "result = combine_lists([0, 1], [2, 3])\n",
    "print(result)"
   ]
  },
  {
   "cell_type": "markdown",
   "metadata": {},
   "source": [
    "**(4) Task:** <br>\n",
    "Combine the following three functions into one, choosing between the styles using a keyword argument.\n",
    "\n",
    "**(4) Solution:** <br>\n",
    "Here if and elseif (elif) statements are used to choose between the three functions. "
   ]
  },
  {
   "cell_type": "code",
   "execution_count": null,
   "metadata": {},
   "outputs": [],
   "source": [
    "def print_among_stars(x):\n",
    "    print(10*\"*\" + x + 10*\"*\")\n",
    "    \n",
    "def print_among_lines(x):\n",
    "    print(10*\"-\" + x + 10*\"-\")\n",
    "    \n",
    "def return_among_lines(x):\n",
    "    return 10*\"-\" + x + 10*\"-\"\n",
    "\n",
    "def print_among(x, choice=\"stars\"):\n",
    "    if choice == \"stars\":\n",
    "        print_among_stars(x)\n",
    "    elif choice == \"lines\":\n",
    "        print_among_lines(x)\n",
    "    elif choice == \"return\":\n",
    "        return return_among_lines(x)\n",
    "\n",
    "print_among(\"hurray\")\n",
    "print_among(\"hurray\", choice=\"lines\")\n",
    "a = print_among(\"hurray\", choice=\"return\")\n",
    "print(a)"
   ]
  },
  {
   "cell_type": "markdown",
   "metadata": {},
   "source": [
    "**(5) Python Task:** <br>\n",
    "Define your own comparison function and use it with sort.\n",
    "\n",
    "**(5) Solution:** <br>\n",
    "A quick solution here could be to switch from smaller than to larger than."
   ]
  },
  {
   "cell_type": "code",
   "execution_count": null,
   "metadata": {},
   "outputs": [],
   "source": [
    "def sort(x, func):\n",
    "    \"\"\"\n",
    "    sorts a list according to an comparison function\n",
    "    \n",
    "    Parameters\n",
    "    ----------\n",
    "    x : list\n",
    "        List to be sorted\n",
    "    \n",
    "    func : function\n",
    "        Function that takes two input from list and returns logical\n",
    "        \n",
    "    Returns\n",
    "    -------\n",
    "    list\n",
    "        Sorted list based on x\n",
    "    \"\"\"\n",
    "    is_not_sorted = True # Assume it is not sorted\n",
    "    while(is_not_sorted): # Keep sorting until list is sorted\n",
    "        \n",
    "        # This loop runs through the array and switches elements out of order\n",
    "        for i in range(len(x)-1):\n",
    "            if func(x[i], x[i+1]):\n",
    "                temp = x[i] \n",
    "                x[i] = x[i+1]\n",
    "                x[i+1] = temp\n",
    "        \n",
    "        is_not_sorted = False # Assume list is now sorted, but check\n",
    "        \n",
    "        # This loop checks that the list is sorted\n",
    "        for i in range(len(x)-1):\n",
    "            if func(x[i], x[i+1]): # If two adjecent elements are out of order, it is not sorted\n",
    "                is_not_sorted = True\n",
    "    \n",
    "    # Since the while loop is only stopped when is_not_sorted is false, x must now be sorted\n",
    "    return x"
   ]
  },
  {
   "cell_type": "code",
   "execution_count": null,
   "metadata": {},
   "outputs": [],
   "source": [
    "def compare_larger(x, y):\n",
    "    if x > y:\n",
    "        return True\n",
    "    else:\n",
    "        return False\n",
    "    \n",
    "input_list = [1, 2, 5, 3, 19, 8, 8]\n",
    "output_list = sort(input_list, compare_larger)\n",
    "print(output_list)"
   ]
  },
  {
   "cell_type": "markdown",
   "metadata": {},
   "source": [
    "**(6) Python Task:** <br>\n",
    "Define a comparison function where odd numbers are considered smaller than even numbers, and two numbers of the same type are compared normally. Use the modulus function % to check for even/odd numbers, an example function is given to show how modulus is used.\n",
    "\n",
    "**(6) Solution:** <br>\n",
    "This comparison function first checks if both numbers to compare are even/odd, and if they are, use our compare_larger function. In case they are not both even or odd, they must be different, and so checking if just one is odd is enough to choose which logical to return."
   ]
  },
  {
   "cell_type": "code",
   "execution_count": null,
   "metadata": {},
   "outputs": [],
   "source": [
    "def compare_weird(x, y):\n",
    "    if x % 2 == y % 2: # both odd or even\n",
    "        return compare_larger(x, y)\n",
    "    else:\n",
    "        if x % 2 == 1:\n",
    "            return False # If x is odd, it is considered smaller\n",
    "        else:\n",
    "            return True # If x is even, it is considered larger        \n",
    "    \n",
    "input_list = [1, 2, 5, 3, 19, 8, 8]\n",
    "output_list = sort(input_list, compare_weird)\n",
    "print(output_list)"
   ]
  }
 ],
 "metadata": {
  "kernelspec": {
   "display_name": "Python 3",
   "language": "python",
   "name": "python3"
  },
  "language_info": {
   "codemirror_mode": {
    "name": "ipython",
    "version": 3
   },
   "file_extension": ".py",
   "mimetype": "text/x-python",
   "name": "python",
   "nbconvert_exporter": "python",
   "pygments_lexer": "ipython3",
   "version": "3.7.3"
  }
 },
 "nbformat": 4,
 "nbformat_minor": 2
}
