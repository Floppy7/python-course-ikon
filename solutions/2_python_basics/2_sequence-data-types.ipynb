{
 "cells": [
  {
   "cell_type": "markdown",
   "metadata": {},
   "source": [
    "## Sequence data types - Solutions"
   ]
  },
  {
   "cell_type": "markdown",
   "metadata": {},
   "source": [
    "**(1) Task:** <br>\n",
    "Using slicing to print the ESS part of these strings."
   ]
  },
  {
   "cell_type": "markdown",
   "metadata": {},
   "source": [
    "**(1) Solution:** <br>\n",
    "Find the index of the e for the start index, add three for the end index. Remember Python uses zero indexing, so the first letter has index 0. In cases where ess is at the end of the word, it is easier to count from the end. The upper method is used to print in upper case."
   ]
  },
  {
   "cell_type": "code",
   "execution_count": null,
   "metadata": {},
   "outputs": [],
   "source": [
    "A = \"Professionalism\"\n",
    "B = \"Multiprocessing\"\n",
    "C = \"Brightness\"\n",
    "D = \"Impressionistic\"\n",
    "\n",
    "print(A[4:7].upper())\n",
    "print(B[9:12].upper())\n",
    "print(C[-3:].upper())\n",
    "print(D[4:7].upper())"
   ]
  },
  {
   "cell_type": "markdown",
   "metadata": {},
   "source": [
    "**(2) Task:** <br>\n",
    "Tuples can be combined to form new tuples in the same manner as strings. Create one tuple from the available tuples below and using slicing so that the end results is the integers from 1 to 5."
   ]
  },
  {
   "cell_type": "markdown",
   "metadata": {},
   "source": [
    "**(2) Solution:** <br>\n",
    "Two tuples can be combiend with the *+* operator, but a tuple and an integer can not. For this reason it is important to use a colon when slicing, even when only one element is desired."
   ]
  },
  {
   "cell_type": "code",
   "execution_count": null,
   "metadata": {},
   "outputs": [],
   "source": [
    "A = (4, 5)\n",
    "B = (2, 3, 4)\n",
    "C = (1, 8)\n",
    "\n",
    "D = C[0:1] + B[0:2] + A\n",
    "print(D)"
   ]
  },
  {
   "cell_type": "markdown",
   "metadata": {},
   "source": [
    "**(3) Task:** <br>\n",
    "Given this list of numerical entries, print the five smallest and five largest values."
   ]
  },
  {
   "cell_type": "markdown",
   "metadata": {},
   "source": [
    "**(3) Solution:** <br>\n",
    "First the elements are sorted using the sort method, then slicing is used to only display the first and last five elements."
   ]
  },
  {
   "cell_type": "code",
   "execution_count": null,
   "metadata": {},
   "outputs": [],
   "source": [
    "n_list = [12, 4, 1.2, -3.1, 9.8, 4, 1.2, 2.3, 5.0, 10.0, -1.001]\n",
    "n_list.sort()\n",
    "print(\"Five smallest entries: \", n_list[:5])\n",
    "print(\"Five largest entries:  \", n_list[-5:])"
   ]
  },
  {
   "cell_type": "markdown",
   "metadata": {},
   "source": [
    "**(4) Task:** <br>\n",
    "Use a dictionary to set up a shop with some inventory and associated prices. Use a for-loop to create a sale, display the inventory with prices before and after."
   ]
  },
  {
   "cell_type": "markdown",
   "metadata": {},
   "source": [
    "**(4) Solution:** <br>\n",
    "Here we set up a small hardware shop using strings as keys and numbers as values which represent price. A for-loop is used to discount all items. "
   ]
  },
  {
   "cell_type": "code",
   "execution_count": null,
   "metadata": {},
   "outputs": [],
   "source": [
    "shop = {\"usb hub\": 150.0, \"wireless mouse\": 200.0, \"laptop\": 6000.0, \"screen\": 2500.0}\n",
    "print(\"Prices prior to sale \", shop)\n",
    "for key in shop:\n",
    "    shop[key] *= 0.9 # 10% discount\n",
    "print(\"Prices during to sale\", shop)"
   ]
  },
  {
   "cell_type": "markdown",
   "metadata": {},
   "source": [
    "**(5) Task:** <br>\n",
    "Given three base colors, for example red, green and blue, write a dictionary that contains the names of the resulting color when two different base colors are mixed. "
   ]
  },
  {
   "cell_type": "markdown",
   "metadata": {},
   "source": [
    "**(5) Solution:** <br>\n",
    "Use tuples that contain two of the colors as the keys in a dictionary, while the values should correspond to the name of the combined color. It is necessary to set up each mix twice, as a tuple with its elements reversed is recoignized as a different key."
   ]
  },
  {
   "cell_type": "code",
   "execution_count": null,
   "metadata": {},
   "outputs": [],
   "source": [
    "mixes = {(\"blue\", \"red\"): \"purple\", (\"blue\", \"green\"): \"cyan\",\n",
    "         (\"red\", \"blue\"): \"purple\", (\"red\", \"green\"): \"yellow\",\n",
    "         (\"green\", \"blue\"): \"cyan\", (\"green\", \"red\"): \"yellow\"}\n",
    "\n",
    "print(mixes[(\"blue\", \"red\")])"
   ]
  }
 ],
 "metadata": {
  "kernelspec": {
   "display_name": "Python 3",
   "language": "python",
   "name": "python3"
  },
  "language_info": {
   "codemirror_mode": {
    "name": "ipython",
    "version": 3
   },
   "file_extension": ".py",
   "mimetype": "text/x-python",
   "name": "python",
   "nbconvert_exporter": "python",
   "pygments_lexer": "ipython3",
   "version": "3.7.3"
  }
 },
 "nbformat": 4,
 "nbformat_minor": 2
}
