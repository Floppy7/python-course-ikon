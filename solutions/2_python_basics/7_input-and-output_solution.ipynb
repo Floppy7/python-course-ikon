{
 "cells": [
  {
   "cell_type": "markdown",
   "metadata": {},
   "source": [
    "# Solutions to Input and Output\n",
    "**Exercise (1)** <br>"
   ]
  },
  {
   "cell_type": "code",
   "execution_count": null,
   "metadata": {},
   "outputs": [],
   "source": [
    "# writting\n",
    "import time\n",
    "with open('myoutputfile', mode='w') as opened_file:\n",
    "    opened_file.write('MyName\\n')\n",
    "    opened_file.write(time.ctime())"
   ]
  },
  {
   "cell_type": "code",
   "execution_count": null,
   "metadata": {},
   "outputs": [],
   "source": [
    "# reading\n",
    "with open('myoutputfile', mode='r') as f:\n",
    "    # read the first line with the name\n",
    "    firstline = f.readline()\n",
    "    # read the second line with the date\n",
    "    secondline = f.readline()\n",
    "    month = secondline.split()[1]\n",
    "print(\"month is \" + month)"
   ]
  },
  {
   "cell_type": "markdown",
   "metadata": {},
   "source": [
    "**Exercise (2)** <br>"
   ]
  },
  {
   "cell_type": "code",
   "execution_count": null,
   "metadata": {},
   "outputs": [],
   "source": [
    "# reading\n",
    "with open('myoutputfile', mode='r') as f:\n",
    "    # read the first line with the name\n",
    "    firstline = f.readline()\n",
    "    # read the second line with the date\n",
    "    secondline = f.readline()\n",
    "    month = secondline.split()[1]\n",
    "print(\"month is {}\".format(month))"
   ]
  },
  {
   "cell_type": "markdown",
   "metadata": {},
   "source": [
    "**Exercise (3)**"
   ]
  },
  {
   "cell_type": "code",
   "execution_count": null,
   "metadata": {},
   "outputs": [],
   "source": [
    "with open(\"../../notebooks/python_basics/sample_text.txt\") as f:\n",
    "    content = f.readlines()\n",
    "\n",
    "# Find the number of occurences for 'i'\n",
    "n = 0\n",
    "for l in content:\n",
    "    n += l.count('i')\n",
    "    n += l.count('I')\n",
    "print(\"There are {} occurences of the character \"\n",
    "      \"'i' (including uppercase).\\n\".format(n))\n",
    "\n",
    "# Find the 5 most common words\n",
    "stats = dict()\n",
    "for l in content:\n",
    "    for word in l.split():\n",
    "        if word not in stats:\n",
    "            stats[word] = 1\n",
    "        else:\n",
    "            stats[word] += 1\n",
    "\n",
    "count = 0\n",
    "print(\"The most common words are:\")\n",
    "for k, v in sorted(stats.items(), key=lambda item: item[1], reverse=True):\n",
    "    print(\"{}: {}\".format(k, v))\n",
    "    count += 1\n",
    "    if count > 4:\n",
    "        break\n",
    "\n",
    "# Find the 5 most common two-word sentences\n",
    "stats = dict()\n",
    "for l in content:\n",
    "    word_list = l.split()\n",
    "    for i in range(len(word_list) - 1):\n",
    "        sentence = \" \".join(word_list[i:i+2])\n",
    "        if sentence not in stats:\n",
    "            stats[sentence] = 1\n",
    "        else:\n",
    "            stats[sentence] += 1\n",
    "\n",
    "count = 0\n",
    "print(\"\\nThe most common two-word sentences are:\")\n",
    "for k, v in sorted(stats.items(), key=lambda item: item[1], reverse=True):\n",
    "    print(\"{}: {}\".format(k, v))\n",
    "    count += 1\n",
    "    if count > 4:\n",
    "        break"
   ]
  },
  {
   "cell_type": "code",
   "execution_count": null,
   "metadata": {},
   "outputs": [],
   "source": []
  }
 ],
 "metadata": {
  "kernelspec": {
   "display_name": "Python 3",
   "language": "python",
   "name": "python3"
  },
  "language_info": {
   "codemirror_mode": {
    "name": "ipython",
    "version": 3
   },
   "file_extension": ".py",
   "mimetype": "text/x-python",
   "name": "python",
   "nbconvert_exporter": "python",
   "pygments_lexer": "ipython3",
   "version": "3.7.3"
  },
  "varInspector": {
   "cols": {
    "lenName": 16,
    "lenType": 16,
    "lenVar": 40
   },
   "kernels_config": {
    "python": {
     "delete_cmd_postfix": "",
     "delete_cmd_prefix": "del ",
     "library": "var_list.py",
     "varRefreshCmd": "print(var_dic_list())"
    },
    "r": {
     "delete_cmd_postfix": ") ",
     "delete_cmd_prefix": "rm(",
     "library": "var_list.r",
     "varRefreshCmd": "cat(var_dic_list()) "
    }
   },
   "types_to_exclude": [
    "module",
    "function",
    "builtin_function_or_method",
    "instance",
    "_Feature"
   ],
   "window_display": false
  }
 },
 "nbformat": 4,
 "nbformat_minor": 2
}
